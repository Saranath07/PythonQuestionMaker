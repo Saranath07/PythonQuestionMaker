{
  "cells": [
    {
      "cell_type": "code",
      "execution_count": null,
      "metadata": {
        "colab": {
          "base_uri": "https://localhost:8080/"
        },
        "id": "I6Vnh8FQda1m",
        "outputId": "42201075-4b8c-4e6e-c7a7-9b0efcd8a75f"
      },
      "outputs": [
        {
          "name": "stdout",
          "output_type": "stream",
          "text": [
            "Collecting langchain\n",
            "  Downloading langchain-0.2.7-py3-none-any.whl (983 kB)\n",
            "\u001b[2K     \u001b[90m━━━━━━━━━━━━━━━━━━━━━━━━━━━━━━━━━━━━━━━━\u001b[0m \u001b[32m983.6/983.6 kB\u001b[0m \u001b[31m6.0 MB/s\u001b[0m eta \u001b[36m0:00:00\u001b[0m\n",
            "\u001b[?25hRequirement already satisfied: PyYAML>=5.3 in /usr/local/lib/python3.10/dist-packages (from langchain) (6.0.1)\n",
            "Requirement already satisfied: SQLAlchemy<3,>=1.4 in /usr/local/lib/python3.10/dist-packages (from langchain) (2.0.31)\n",
            "Requirement already satisfied: aiohttp<4.0.0,>=3.8.3 in /usr/local/lib/python3.10/dist-packages (from langchain) (3.9.5)\n",
            "Requirement already satisfied: async-timeout<5.0.0,>=4.0.0 in /usr/local/lib/python3.10/dist-packages (from langchain) (4.0.3)\n",
            "Collecting langchain-core<0.3.0,>=0.2.12 (from langchain)\n",
            "  Downloading langchain_core-0.2.13-py3-none-any.whl (357 kB)\n",
            "\u001b[2K     \u001b[90m━━━━━━━━━━━━━━━━━━━━━━━━━━━━━━━━━━━━━━━━\u001b[0m \u001b[32m357.9/357.9 kB\u001b[0m \u001b[31m9.2 MB/s\u001b[0m eta \u001b[36m0:00:00\u001b[0m\n",
            "\u001b[?25hCollecting langchain-text-splitters<0.3.0,>=0.2.0 (from langchain)\n",
            "  Downloading langchain_text_splitters-0.2.2-py3-none-any.whl (25 kB)\n",
            "Collecting langsmith<0.2.0,>=0.1.17 (from langchain)\n",
            "  Downloading langsmith-0.1.85-py3-none-any.whl (127 kB)\n",
            "\u001b[2K     \u001b[90m━━━━━━━━━━━━━━━━━━━━━━━━━━━━━━━━━━━━━━━━\u001b[0m \u001b[32m127.9/127.9 kB\u001b[0m \u001b[31m4.9 MB/s\u001b[0m eta \u001b[36m0:00:00\u001b[0m\n",
            "\u001b[?25hRequirement already satisfied: numpy<2,>=1 in /usr/local/lib/python3.10/dist-packages (from langchain) (1.25.2)\n",
            "Requirement already satisfied: pydantic<3,>=1 in /usr/local/lib/python3.10/dist-packages (from langchain) (2.8.0)\n",
            "Requirement already satisfied: requests<3,>=2 in /usr/local/lib/python3.10/dist-packages (from langchain) (2.31.0)\n",
            "Requirement already satisfied: tenacity!=8.4.0,<9.0.0,>=8.1.0 in /usr/local/lib/python3.10/dist-packages (from langchain) (8.4.2)\n",
            "Requirement already satisfied: aiosignal>=1.1.2 in /usr/local/lib/python3.10/dist-packages (from aiohttp<4.0.0,>=3.8.3->langchain) (1.3.1)\n",
            "Requirement already satisfied: attrs>=17.3.0 in /usr/local/lib/python3.10/dist-packages (from aiohttp<4.0.0,>=3.8.3->langchain) (23.2.0)\n",
            "Requirement already satisfied: frozenlist>=1.1.1 in /usr/local/lib/python3.10/dist-packages (from aiohttp<4.0.0,>=3.8.3->langchain) (1.4.1)\n",
            "Requirement already satisfied: multidict<7.0,>=4.5 in /usr/local/lib/python3.10/dist-packages (from aiohttp<4.0.0,>=3.8.3->langchain) (6.0.5)\n",
            "Requirement already satisfied: yarl<2.0,>=1.0 in /usr/local/lib/python3.10/dist-packages (from aiohttp<4.0.0,>=3.8.3->langchain) (1.9.4)\n",
            "Collecting jsonpatch<2.0,>=1.33 (from langchain-core<0.3.0,>=0.2.12->langchain)\n",
            "  Downloading jsonpatch-1.33-py2.py3-none-any.whl (12 kB)\n",
            "Requirement already satisfied: packaging<25,>=23.2 in /usr/local/lib/python3.10/dist-packages (from langchain-core<0.3.0,>=0.2.12->langchain) (24.1)\n",
            "Collecting orjson<4.0.0,>=3.9.14 (from langsmith<0.2.0,>=0.1.17->langchain)\n",
            "  Downloading orjson-3.10.6-cp310-cp310-manylinux_2_17_x86_64.manylinux2014_x86_64.whl (141 kB)\n",
            "\u001b[2K     \u001b[90m━━━━━━━━━━━━━━━━━━━━━━━━━━━━━━━━━━━━━━━━\u001b[0m \u001b[32m141.1/141.1 kB\u001b[0m \u001b[31m1.9 MB/s\u001b[0m eta \u001b[36m0:00:00\u001b[0m\n",
            "\u001b[?25hRequirement already satisfied: annotated-types>=0.4.0 in /usr/local/lib/python3.10/dist-packages (from pydantic<3,>=1->langchain) (0.7.0)\n",
            "Requirement already satisfied: pydantic-core==2.20.0 in /usr/local/lib/python3.10/dist-packages (from pydantic<3,>=1->langchain) (2.20.0)\n",
            "Requirement already satisfied: typing-extensions>=4.6.1 in /usr/local/lib/python3.10/dist-packages (from pydantic<3,>=1->langchain) (4.12.2)\n",
            "Requirement already satisfied: charset-normalizer<4,>=2 in /usr/local/lib/python3.10/dist-packages (from requests<3,>=2->langchain) (3.3.2)\n",
            "Requirement already satisfied: idna<4,>=2.5 in /usr/local/lib/python3.10/dist-packages (from requests<3,>=2->langchain) (3.7)\n",
            "Requirement already satisfied: urllib3<3,>=1.21.1 in /usr/local/lib/python3.10/dist-packages (from requests<3,>=2->langchain) (2.0.7)\n",
            "Requirement already satisfied: certifi>=2017.4.17 in /usr/local/lib/python3.10/dist-packages (from requests<3,>=2->langchain) (2024.6.2)\n",
            "Requirement already satisfied: greenlet!=0.4.17 in /usr/local/lib/python3.10/dist-packages (from SQLAlchemy<3,>=1.4->langchain) (3.0.3)\n",
            "Collecting jsonpointer>=1.9 (from jsonpatch<2.0,>=1.33->langchain-core<0.3.0,>=0.2.12->langchain)\n",
            "  Downloading jsonpointer-3.0.0-py2.py3-none-any.whl (7.6 kB)\n",
            "Installing collected packages: orjson, jsonpointer, jsonpatch, langsmith, langchain-core, langchain-text-splitters, langchain\n",
            "Successfully installed jsonpatch-1.33 jsonpointer-3.0.0 langchain-0.2.7 langchain-core-0.2.13 langchain-text-splitters-0.2.2 langsmith-0.1.85 orjson-3.10.6\n",
            "\u001b[2K     \u001b[90m━━━━━━━━━━━━━━━━━━━━━━━━━━━━━━━━━━━━━━━━\u001b[0m \u001b[32m103.5/103.5 kB\u001b[0m \u001b[31m2.0 MB/s\u001b[0m eta \u001b[36m0:00:00\u001b[0m\n",
            "\u001b[2K     \u001b[90m━━━━━━━━━━━━━━━━━━━━━━━━━━━━━━━━━━━━━━━━\u001b[0m \u001b[32m75.6/75.6 kB\u001b[0m \u001b[31m6.8 MB/s\u001b[0m eta \u001b[36m0:00:00\u001b[0m\n",
            "\u001b[2K     \u001b[90m━━━━━━━━━━━━━━━━━━━━━━━━━━━━━━━━━━━━━━━━\u001b[0m \u001b[32m77.9/77.9 kB\u001b[0m \u001b[31m6.3 MB/s\u001b[0m eta \u001b[36m0:00:00\u001b[0m\n",
            "\u001b[2K     \u001b[90m━━━━━━━━━━━━━━━━━━━━━━━━━━━━━━━━━━━━━━━━\u001b[0m \u001b[32m58.3/58.3 kB\u001b[0m \u001b[31m5.1 MB/s\u001b[0m eta \u001b[36m0:00:00\u001b[0m\n",
            "\u001b[?25hCollecting langchain_community\n",
            "  Downloading langchain_community-0.2.7-py3-none-any.whl (2.2 MB)\n",
            "\u001b[2K     \u001b[90m━━━━━━━━━━━━━━━━━━━━━━━━━━━━━━━━━━━━━━━━\u001b[0m \u001b[32m2.2/2.2 MB\u001b[0m \u001b[31m18.4 MB/s\u001b[0m eta \u001b[36m0:00:00\u001b[0m\n",
            "\u001b[?25hRequirement already satisfied: PyYAML>=5.3 in /usr/local/lib/python3.10/dist-packages (from langchain_community) (6.0.1)\n",
            "Requirement already satisfied: SQLAlchemy<3,>=1.4 in /usr/local/lib/python3.10/dist-packages (from langchain_community) (2.0.31)\n",
            "Requirement already satisfied: aiohttp<4.0.0,>=3.8.3 in /usr/local/lib/python3.10/dist-packages (from langchain_community) (3.9.5)\n",
            "Collecting dataclasses-json<0.7,>=0.5.7 (from langchain_community)\n",
            "  Downloading dataclasses_json-0.6.7-py3-none-any.whl (28 kB)\n",
            "Requirement already satisfied: langchain<0.3.0,>=0.2.7 in /usr/local/lib/python3.10/dist-packages (from langchain_community) (0.2.7)\n",
            "Requirement already satisfied: langchain-core<0.3.0,>=0.2.12 in /usr/local/lib/python3.10/dist-packages (from langchain_community) (0.2.13)\n",
            "Requirement already satisfied: langsmith<0.2.0,>=0.1.0 in /usr/local/lib/python3.10/dist-packages (from langchain_community) (0.1.85)\n",
            "Requirement already satisfied: numpy<2,>=1 in /usr/local/lib/python3.10/dist-packages (from langchain_community) (1.25.2)\n",
            "Requirement already satisfied: requests<3,>=2 in /usr/local/lib/python3.10/dist-packages (from langchain_community) (2.31.0)\n",
            "Requirement already satisfied: tenacity!=8.4.0,<9.0.0,>=8.1.0 in /usr/local/lib/python3.10/dist-packages (from langchain_community) (8.4.2)\n",
            "Requirement already satisfied: aiosignal>=1.1.2 in /usr/local/lib/python3.10/dist-packages (from aiohttp<4.0.0,>=3.8.3->langchain_community) (1.3.1)\n",
            "Requirement already satisfied: attrs>=17.3.0 in /usr/local/lib/python3.10/dist-packages (from aiohttp<4.0.0,>=3.8.3->langchain_community) (23.2.0)\n",
            "Requirement already satisfied: frozenlist>=1.1.1 in /usr/local/lib/python3.10/dist-packages (from aiohttp<4.0.0,>=3.8.3->langchain_community) (1.4.1)\n",
            "Requirement already satisfied: multidict<7.0,>=4.5 in /usr/local/lib/python3.10/dist-packages (from aiohttp<4.0.0,>=3.8.3->langchain_community) (6.0.5)\n",
            "Requirement already satisfied: yarl<2.0,>=1.0 in /usr/local/lib/python3.10/dist-packages (from aiohttp<4.0.0,>=3.8.3->langchain_community) (1.9.4)\n",
            "Requirement already satisfied: async-timeout<5.0,>=4.0 in /usr/local/lib/python3.10/dist-packages (from aiohttp<4.0.0,>=3.8.3->langchain_community) (4.0.3)\n",
            "Collecting marshmallow<4.0.0,>=3.18.0 (from dataclasses-json<0.7,>=0.5.7->langchain_community)\n",
            "  Downloading marshmallow-3.21.3-py3-none-any.whl (49 kB)\n",
            "\u001b[2K     \u001b[90m━━━━━━━━━━━━━━━━━━━━━━━━━━━━━━━━━━━━━━━━\u001b[0m \u001b[32m49.2/49.2 kB\u001b[0m \u001b[31m3.4 MB/s\u001b[0m eta \u001b[36m0:00:00\u001b[0m\n",
            "\u001b[?25hCollecting typing-inspect<1,>=0.4.0 (from dataclasses-json<0.7,>=0.5.7->langchain_community)\n",
            "  Downloading typing_inspect-0.9.0-py3-none-any.whl (8.8 kB)\n",
            "Requirement already satisfied: langchain-text-splitters<0.3.0,>=0.2.0 in /usr/local/lib/python3.10/dist-packages (from langchain<0.3.0,>=0.2.7->langchain_community) (0.2.2)\n",
            "Requirement already satisfied: pydantic<3,>=1 in /usr/local/lib/python3.10/dist-packages (from langchain<0.3.0,>=0.2.7->langchain_community) (2.8.0)\n",
            "Requirement already satisfied: jsonpatch<2.0,>=1.33 in /usr/local/lib/python3.10/dist-packages (from langchain-core<0.3.0,>=0.2.12->langchain_community) (1.33)\n",
            "Requirement already satisfied: packaging<25,>=23.2 in /usr/local/lib/python3.10/dist-packages (from langchain-core<0.3.0,>=0.2.12->langchain_community) (24.1)\n",
            "Requirement already satisfied: orjson<4.0.0,>=3.9.14 in /usr/local/lib/python3.10/dist-packages (from langsmith<0.2.0,>=0.1.0->langchain_community) (3.10.6)\n",
            "Requirement already satisfied: charset-normalizer<4,>=2 in /usr/local/lib/python3.10/dist-packages (from requests<3,>=2->langchain_community) (3.3.2)\n",
            "Requirement already satisfied: idna<4,>=2.5 in /usr/local/lib/python3.10/dist-packages (from requests<3,>=2->langchain_community) (3.7)\n",
            "Requirement already satisfied: urllib3<3,>=1.21.1 in /usr/local/lib/python3.10/dist-packages (from requests<3,>=2->langchain_community) (2.0.7)\n",
            "Requirement already satisfied: certifi>=2017.4.17 in /usr/local/lib/python3.10/dist-packages (from requests<3,>=2->langchain_community) (2024.6.2)\n",
            "Requirement already satisfied: typing-extensions>=4.6.0 in /usr/local/lib/python3.10/dist-packages (from SQLAlchemy<3,>=1.4->langchain_community) (4.12.2)\n",
            "Requirement already satisfied: greenlet!=0.4.17 in /usr/local/lib/python3.10/dist-packages (from SQLAlchemy<3,>=1.4->langchain_community) (3.0.3)\n",
            "Requirement already satisfied: jsonpointer>=1.9 in /usr/local/lib/python3.10/dist-packages (from jsonpatch<2.0,>=1.33->langchain-core<0.3.0,>=0.2.12->langchain_community) (3.0.0)\n",
            "Requirement already satisfied: annotated-types>=0.4.0 in /usr/local/lib/python3.10/dist-packages (from pydantic<3,>=1->langchain<0.3.0,>=0.2.7->langchain_community) (0.7.0)\n",
            "Requirement already satisfied: pydantic-core==2.20.0 in /usr/local/lib/python3.10/dist-packages (from pydantic<3,>=1->langchain<0.3.0,>=0.2.7->langchain_community) (2.20.0)\n",
            "Collecting mypy-extensions>=0.3.0 (from typing-inspect<1,>=0.4.0->dataclasses-json<0.7,>=0.5.7->langchain_community)\n",
            "  Downloading mypy_extensions-1.0.0-py3-none-any.whl (4.7 kB)\n",
            "Installing collected packages: mypy-extensions, marshmallow, typing-inspect, dataclasses-json, langchain_community\n",
            "Successfully installed dataclasses-json-0.6.7 langchain_community-0.2.7 marshmallow-3.21.3 mypy-extensions-1.0.0 typing-inspect-0.9.0\n"
          ]
        }
      ],
      "source": [
        "# All pip installs\n",
        "!pip install langchain\n",
        "!pip install -qU langchain-groq\n",
        "!pip install langchain_community"
      ]
    },
    {
      "cell_type": "code",
      "execution_count": null,
      "metadata": {
        "id": "6syR_FBRdSHq"
      },
      "outputs": [],
      "source": [
        "import json\n",
        "\n",
        "with open('apiKeys.json', 'r') as file:\n",
        "\n",
        "    apiKeys = json.load(file)"
      ]
    },
    {
      "cell_type": "code",
      "execution_count": null,
      "metadata": {
        "id": "3k-eO7GtdSHs"
      },
      "outputs": [],
      "source": [
        "import os\n",
        "\n",
        "os.environ[\"LANGCHAIN_TRACING_V2\"] = \"true\"\n",
        "os.environ[\"LANGCHAIN_API_KEY\"] = apiKeys['LANGCHAIN_API_KEY']"
      ]
    },
    {
      "cell_type": "code",
      "execution_count": null,
      "metadata": {
        "id": "apvg3lyrdSHt"
      },
      "outputs": [],
      "source": [
        "import os\n",
        "\n",
        "os.environ[\"GROQ_API_KEY\"] = apiKeys['GROQ_API_KEY']\n",
        "\n",
        "from langchain_groq import ChatGroq\n",
        "\n",
        "model = ChatGroq(model=\"llama3-8b-8192\")"
      ]
    },
    {
      "cell_type": "code",
      "execution_count": null,
      "metadata": {
        "id": "_2poYvQddSHu"
      },
      "outputs": [],
      "source": [
        "def get_completion(prompt, model=\"llama3-8b-8192\"):\n",
        "    messages = [{\"role\": \"user\", \"content\": prompt}]\n",
        "    response = ChatGroq(model=model).invoke(messages)\n",
        "    return response\n"
      ]
    },
    {
      "cell_type": "code",
      "execution_count": null,
      "metadata": {
        "colab": {
          "base_uri": "https://localhost:8080/",
          "height": 36
        },
        "id": "vqsZBsdldSHu",
        "outputId": "464d1da0-add2-4dde-ff71-15b3e2b0b5ee"
      },
      "outputs": [
        {
          "data": {
            "application/vnd.google.colaboratory.intrinsic+json": {
              "type": "string"
            },
            "text/plain": [
              "\"Hi! Not much, just hanging out and ready to chat. How about you? What's new and exciting in your world?\""
            ]
          },
          "execution_count": 9,
          "metadata": {},
          "output_type": "execute_result"
        }
      ],
      "source": [
        "prompt = f\"Hi, What's up!\"\n",
        "\n",
        "response = get_completion(prompt)\n",
        "response.content\n"
      ]
    },
    {
      "cell_type": "markdown",
      "metadata": {
        "id": "1zOMaFGZnKLr"
      },
      "source": [
        "# Summarization"
      ]
    },
    {
      "cell_type": "code",
      "execution_count": null,
      "metadata": {
        "colab": {
          "base_uri": "https://localhost:8080/"
        },
        "id": "ky8hcXZHdSHw",
        "outputId": "481bf129-9dbb-4c39-c611-b4ed645d6240"
      },
      "outputs": [
        {
          "name": "stdout",
          "output_type": "stream",
          "text": [
            "Here is a summary of the text:\n",
            "\n",
            "Python is a high-level programming language known for its readability and simplicity. It was created in 1991 by Guido van Rossum and supports multiple programming paradigms. Python has a vast standard library and many third-party packages, making it suitable for various applications such as web development, data analysis, AI, and scientific computing. Its community-driven development and robust frameworks contribute to its popularity, making it a good choice for both beginners and experienced developers.\n"
          ]
        }
      ],
      "source": [
        "text = f\"\"\"Python is a versatile, high-level programming language renowned \\\n",
        "for its readability and simplicity. Created by Guido van Rossum and \\\n",
        "first released in 1991, Python emphasizes code readability with its \\\n",
        "use of significant indentation. \\\n",
        "It supports multiple programming paradigms, including procedural, \\\n",
        "object-oriented, and functional programming. Python's extensive \\\n",
        "standard library and vast ecosystem of third-party packages make it \\\n",
        "suitable for a wide range of applications, from web development and \\\n",
        "data analysis to artificial intelligence and scientific computing. \\\n",
        "Its community-driven development and robust frameworks contribute \\\n",
        "to its popularity, making Python an ideal choice for both beginners \\\n",
        "and experienced developers.\"\"\"\n",
        "\n",
        "prompt = f\"Summarize the text delimited by triple backticks: ```{text}```\"\n",
        "\n",
        "response = get_completion(prompt)\n",
        "print(response.content)"
      ]
    },
    {
      "cell_type": "markdown",
      "metadata": {
        "id": "KqvkMZ4xdSHx"
      },
      "source": [
        "# Generate in a particular format"
      ]
    },
    {
      "cell_type": "code",
      "execution_count": null,
      "metadata": {
        "colab": {
          "base_uri": "https://localhost:8080/"
        },
        "id": "fT1kRuTFdSHy",
        "outputId": "349f946a-f99f-4c71-d649-b9a19751b77d"
      },
      "outputs": [
        {
          "name": "stdout",
          "output_type": "stream",
          "text": [
            "What a monumental task! Here's a YAML file that covers many fundamental programming concepts, organized into categories. Please note that this is not an exhaustive list, and there's always more to learn in programming. This file is meant to provide a solid foundation for beginners.\n",
            "\n",
            "**Variables and Data Types**\n",
            "```\n",
            "variables:\n",
            "  - name: Introduction to Variables\n",
            "    description: Learn about variables, data types, and assigning values.\n",
            "    topics:\n",
            "      - `Variables`\n",
            "      - `Data Types` (string, integer, float, boolean)\n",
            "      - `Assigning Values`\n",
            "\n",
            "  - name: Working with Strings\n",
            "    description: Learn about string manipulation, concatenation, and formatting.\n",
            "    topics:\n",
            "      - `String Manipulation` (uppercase, lowercase, substring)\n",
            "      - `String Concatenation`\n",
            "      - `String Formatting`\n",
            "\n",
            "  - name: Working with Numbers\n",
            "    description: Learn about basic arithmetic operations, rounding, and type conversions.\n",
            "    topics:\n",
            "      - `Basic Arithmetic Operations` (addition, subtraction, multiplication, division)\n",
            "      - `Rounding Numbers`\n",
            "      - `Type Conversions` (integer to float, float to integer)\n",
            "\n",
            "  - name: Working with Booleans\n",
            "    description: Learn about boolean variables, logical operators, and conditional statements.\n",
            "    topics:\n",
            "      - `Boolean Variables`\n",
            "      - `Logical Operators` (AND, OR, NOT)\n",
            "      - `Conditional Statements` (if-else)\n",
            "\n",
            "**Control Structures**\n",
            "```\n",
            "control-structures:\n",
            "  - name: Conditional Statements\n",
            "    description: Learn about if-else statements, nested if-else, and switch statements.\n",
            "    topics:\n",
            "      - `If-Else Statements`\n",
            "      - `Nested If-Else Statements`\n",
            "      - `Switch Statements`\n",
            "\n",
            "  - name: Loops\n",
            "    description: Learn about for loops, while loops, and do-while loops.\n",
            "    topics:\n",
            "      - `For Loops`\n",
            "      - `While Loops`\n",
            "      - `Do-While Loops`\n",
            "\n",
            "  - name: Jump Statements\n",
            "    description: Learn about break statements, continue statements, and return statements.\n",
            "    topics:\n",
            "      - `Break Statements`\n",
            "      - `Continue Statements`\n",
            "      - `Return Statements`\n",
            "\n",
            "**Functions and Modules**\n",
            "```\n",
            "functions-and-modules:\n",
            "  - name: Functions\n",
            "    description: Learn about function declarations, function calls, and function arguments.\n",
            "    topics:\n",
            "      - `Function Declarations`\n",
            "      - `Function Calls`\n",
            "      - `Function Arguments`\n",
            "\n",
            "  - name: Modules\n",
            "    description: Learn about importing modules, creating modules, and using module variables.\n",
            "    topics:\n",
            "      - `Importing Modules`\n",
            "      - `Creating Modules`\n",
            "      - `Using Module Variables`\n",
            "\n",
            "**Object-Oriented Programming**\n",
            "```\n",
            "object-oriented-programming:\n",
            "  - name: Classes and Objects\n",
            "    description: Learn about class declarations, object creation, and object properties.\n",
            "    topics:\n",
            "      - `Class Declarations`\n",
            "      - `Object Creation`\n",
            "      - `Object Properties`\n",
            "\n",
            "  - name: Methods\n",
            "    description: Learn about method declarations, method calls, and method overloading.\n",
            "    topics:\n",
            "      - `Method Declarations`\n",
            "      - `Method Calls`\n",
            "      - `Method Overloading`\n",
            "\n",
            "  - name: Inheritance\n",
            "    description: Learn about inheritance, polymorphism, and abstract classes.\n",
            "    topics:\n",
            "      - `Inheritance`\n",
            "      - `Polymorphism`\n",
            "      - `Abstract Classes`\n",
            "\n",
            "**Error Handling and Debugging**\n",
            "```\n",
            "error-handling-and-debugging:\n",
            "  - name: Error Handling\n",
            "    description: Learn about try-catch blocks, error types, and error handling techniques.\n",
            "    topics:\n",
            "      - `Try-Catch Blocks`\n",
            "      - `Error Types`\n",
            "      - `Error Handling Techniques`\n",
            "\n",
            "  - name: Debugging\n",
            "    description: Learn about debugging techniques, print statements, and debugging tools.\n",
            "    topics:\n",
            "      - `Debugging Techniques`\n",
            "      - `Print Statements`\n",
            "      - `Debugging Tools`\n",
            "\n",
            "**Best Practices and Tools**\n",
            "```\n",
            "best-practices-and-tools:\n",
            "  - name: Code Organization\n",
            "    description: Learn about code organization, naming conventions, and commenting code.\n",
            "    topics:\n",
            "      - `Code Organization`\n",
            "      - `Naming Conventions`\n",
            "      - `Commenting Code`\n",
            "\n",
            "  - name: Version Control\n",
            "    description: Learn about version control systems, Git, and GitHub.\n",
            "    topics:\n",
            "      - `Version Control Systems`\n",
            "      - `Git`\n",
            "      - `GitHub`\n",
            "\n",
            "  - name: Integrated Development Environments (IDEs)\n",
            "    description: Learn about popular IDEs, features, and benefits.\n",
            "    topics:\n",
            "      - `Integrated Development Environments (IDEs)`\n",
            "      - `Features`\n",
            "      - `Benefits`\n",
            "```\n",
            "This YAML file covers a range of topics, from variables and data types to object-oriented programming, error handling, and best practices. It's not exhaustive, but it should provide a solid foundation for beginners to build upon.\n"
          ]
        }
      ],
      "source": [
        "prompt = f\"Generate a yaml file whic covers all the concepts that can learnt for people learning programming for the first time.\"\n",
        "\n",
        "response = get_completion(prompt)\n",
        "print(response.content)\n"
      ]
    },
    {
      "cell_type": "markdown",
      "metadata": {
        "id": "iDc9UuYPdSHz"
      },
      "source": [
        "# Generate with steps"
      ]
    },
    {
      "cell_type": "code",
      "execution_count": null,
      "metadata": {
        "colab": {
          "base_uri": "https://localhost:8080/"
        },
        "id": "uPtZatA_dSHz",
        "outputId": "6cbbf05a-b0a5-45aa-e2a5-8890f0715930"
      },
      "outputs": [
        {
          "name": "stdout",
          "output_type": "stream",
          "text": [
            "Completion for Text 1:\n",
            "content='Here are the instructions rewritten in the desired format:\\n\\n\"\"\"\\nStep 1 - Get some water boiling.\\nStep 2 - While the water is boiling, grab a cup and put a tea bag in it.\\nStep 3 - Once the water is hot enough, pour it over the tea bag.\\nStep 4 - Let the tea sit for a bit so it can steep.\\nStep 5 - After a few minutes, take out the tea bag.\\nStep 6 - If desired, add some sugar or milk to taste.\\nStep 7 - And that\\'s it! You\\'ve got yourself a delicious cup of tea to enjoy.\\n\"\"\"\\n\\nLet me know if you\\'d like me to reformat anything!' response_metadata={'token_usage': {'completion_tokens': 141, 'prompt_tokens': 198, 'total_tokens': 339, 'completion_time': 0.11158858, 'prompt_time': 0.030699514, 'queue_time': None, 'total_time': 0.142288094}, 'model_name': 'llama3-8b-8192', 'system_fingerprint': 'fp_a97cfe35ae', 'finish_reason': 'stop', 'logprobs': None} id='run-0bc5be42-77fc-44ab-ab83-c8b7c36769bd-0' usage_metadata={'input_tokens': 198, 'output_tokens': 141, 'total_tokens': 339}\n"
          ]
        }
      ],
      "source": [
        "text = f\"\"\"\n",
        "Making a cup of tea is easy! First, you need to get some \\\n",
        "water boiling. While that's happening, \\\n",
        "grab a cup and put a tea bag in it. Once the water is \\\n",
        "hot enough, just pour it over the tea bag. \\\n",
        "Let it sit for a bit so the tea can steep. After a \\\n",
        "few minutes, take out the tea bag. If you \\\n",
        "like, you can add some sugar or milk to taste. \\\n",
        "And that's it! You've got yourself a delicious \\\n",
        "cup of tea to enjoy.\n",
        "\"\"\"\n",
        "\n",
        "prompt = f\"\"\"\n",
        "You will be provided with text delimited by triple quotes.\n",
        "If it contains a sequence of instructions, \\\n",
        "re-write those instructions in the following format:\n",
        "\n",
        "Step 1 - ...\n",
        "Step 2 - …\n",
        "…\n",
        "Step N - …\n",
        "\n",
        "If the text does not contain a sequence of instructions, \\\n",
        "then simply write \\\"No steps provided.\\\"\n",
        "\n",
        "\\\"\\\"\\\"{text}\\\"\\\"\\\"\n",
        "\"\"\"\n",
        "response = get_completion(prompt)\n",
        "print(\"Completion for Text 1:\")\n",
        "print(response)"
      ]
    },
    {
      "cell_type": "code",
      "execution_count": null,
      "metadata": {
        "id": "pFuAU6-hdSH0"
      },
      "outputs": [],
      "source": [
        "text = f\"\"\"\n",
        "Badminton is a fast-paced racquet sport played with a shuttlecock across a net. \\\n",
        "Originating from British India, it requires agility, precision, and strategic play. \\\n",
        "Players can compete in singles or doubles matches, aiming to score points by landing \\\n",
        "the shuttlecock in the opponent's court. The sport demands quick reflexes, \\\n",
        "powerful shots, and accurate placement. Popular worldwide, badminton \\\n",
        "is featured in the Olympics and has a strong following in countries like China, \\\n",
        "Indonesia, and Denmark. Regular practice improves cardiovascular health and coordination.\n",
        "\"\"\"\n",
        "\n",
        "prompt = f\"\"\"\n",
        "Perform the following actions:\n",
        "1 - Summarize the following text delimited by triple \\\n",
        "backticks with 1 sentence\n",
        "2 - List the names of the countries mentioned in the paragraph\n",
        "3 - Output the game name and countries list in a json format. The format is like\n",
        " \"game\": \"game_name\",\n",
        " \"countries\":[\"country1, country2, country3\"]\n",
        "\n",
        " Text:\n",
        "```{text}```\n",
        "\n",
        "\"\"\""
      ]
    },
    {
      "cell_type": "code",
      "execution_count": null,
      "metadata": {
        "colab": {
          "base_uri": "https://localhost:8080/",
          "height": 72
        },
        "id": "1kMnhzLsdSH1",
        "outputId": "94421a60-5560-46e9-fb9a-0dfaa7be9390"
      },
      "outputs": [
        {
          "data": {
            "application/vnd.google.colaboratory.intrinsic+json": {
              "type": "string"
            },
            "text/plain": [
              "'Here are the actions performed:\\n\\n**1. Summarize the text in 1 sentence:**\\nBadminton is a fast-paced racquet sport that requires agility, precision, and strategy, popular worldwide and featured in the Olympics.\\n\\n**2. List the names of the countries mentioned in the paragraph:**\\n1. China\\n2. Indonesia\\n3. Denmark\\n\\n**3. Output the game name and countries list in a JSON format:**\\n```\\n{\\n  \"game\": \"Badminton\",\\n  \"countries\": [\"China\", \"Indonesia\", \"Denmark\"]\\n}\\n```'"
            ]
          },
          "execution_count": 14,
          "metadata": {},
          "output_type": "execute_result"
        }
      ],
      "source": [
        "response = get_completion(prompt)\n",
        "response.content"
      ]
    },
    {
      "cell_type": "markdown",
      "metadata": {
        "id": "LH99qKZReU-L"
      },
      "source": [
        "# Prompt Template"
      ]
    },
    {
      "cell_type": "code",
      "execution_count": null,
      "metadata": {
        "id": "ps7y-vqZdyXB"
      },
      "outputs": [],
      "source": [
        "template_string = \"\"\"Translate the text \\\n",
        "that is delimited by triple backticks \\\n",
        "into a style that is {style}. \\\n",
        "text: ```{text}```\n",
        "\"\"\""
      ]
    },
    {
      "cell_type": "code",
      "execution_count": null,
      "metadata": {
        "id": "DOw0cgzleJgL"
      },
      "outputs": [],
      "source": [
        "from langchain.prompts import ChatPromptTemplate\n",
        "\n",
        "prompt_template = ChatPromptTemplate.from_template(template_string)"
      ]
    },
    {
      "cell_type": "code",
      "execution_count": null,
      "metadata": {
        "colab": {
          "base_uri": "https://localhost:8080/"
        },
        "id": "VxzCpeEfealg",
        "outputId": "c26c3957-9f04-42f8-cb05-a01878d7ef9b"
      },
      "outputs": [
        {
          "data": {
            "text/plain": [
              "PromptTemplate(input_variables=['style', 'text'], template='Translate the text that is delimited by triple backticks into a style that is {style}. text: ```{text}```\\n')"
            ]
          },
          "execution_count": 23,
          "metadata": {},
          "output_type": "execute_result"
        }
      ],
      "source": [
        "prompt_template.messages[0].prompt"
      ]
    },
    {
      "cell_type": "code",
      "execution_count": null,
      "metadata": {
        "id": "blhVsaBxedND"
      },
      "outputs": [],
      "source": [
        "customer_style = \"\"\"American English \\\n",
        "in a calm and respectful tone\n",
        "\"\"\""
      ]
    },
    {
      "cell_type": "code",
      "execution_count": null,
      "metadata": {
        "id": "dS-56KHYehCt"
      },
      "outputs": [],
      "source": [
        "customer_email = \"\"\"\n",
        "Arrr, I be fuming that me blender lid \\\n",
        "flew off and splattered me kitchen walls \\\n",
        "with smoothie! And to make matters worse, \\\n",
        "the warranty don't cover the cost of \\\n",
        "cleaning up me kitchen. I need yer help \\\n",
        "right now, matey!\n",
        "\"\"\""
      ]
    },
    {
      "cell_type": "code",
      "execution_count": null,
      "metadata": {
        "id": "yHSICqnnelmo"
      },
      "outputs": [],
      "source": [
        "customer_messages = prompt_template.format_messages(\n",
        "                    style=customer_style,\n",
        "                    text=customer_email)"
      ]
    },
    {
      "cell_type": "code",
      "execution_count": null,
      "metadata": {
        "colab": {
          "base_uri": "https://localhost:8080/"
        },
        "id": "Za1y-5BcgISh",
        "outputId": "1538e23b-ef75-4489-830f-f5a1cbb9365b"
      },
      "outputs": [
        {
          "data": {
            "text/plain": [
              "[HumanMessage(content=\"Translate the text that is delimited by triple backticks into a style that is American English in a calm and respectful tone\\n. text: ```\\nArrr, I be fuming that me blender lid flew off and splattered me kitchen walls with smoothie! And to make matters worse, the warranty don't cover the cost of cleaning up me kitchen. I need yer help right now, matey!\\n```\\n\")]"
            ]
          },
          "execution_count": 37,
          "metadata": {},
          "output_type": "execute_result"
        }
      ],
      "source": [
        "customer_messages"
      ]
    },
    {
      "cell_type": "code",
      "execution_count": null,
      "metadata": {
        "id": "GjReNq31eqvS"
      },
      "outputs": [],
      "source": [
        "customer_response = model.invoke(customer_messages)"
      ]
    },
    {
      "cell_type": "code",
      "execution_count": null,
      "metadata": {
        "colab": {
          "base_uri": "https://localhost:8080/",
          "height": 90
        },
        "id": "frKzc93dgqXw",
        "outputId": "870a8ece-9143-45bf-f4cc-2f04759c4895"
      },
      "outputs": [
        {
          "data": {
            "application/vnd.google.colaboratory.intrinsic+json": {
              "type": "string"
            },
            "text/plain": [
              "'Here is the translation:\\n\\n\"I\\'m extremely frustrated that my blender lid flew off and splattered my kitchen walls with smoothie! To make matters worse, the warranty doesn\\'t cover the cost of cleaning up my kitchen. I really need your help right now.\"\\n\\nI\\'ve maintained a calm and respectful tone while making the necessary changes to adapt the text to American English. I\\'ve replaced \"Arrr\" with a more formal opening, changed \"me\" to \"my\", replaced \"be\" with \"am\", and changed \"matey\" to a more formal term. I\\'ve also adjusted the vocabulary and sentence structure to be more suitable for American English.'"
            ]
          },
          "execution_count": 40,
          "metadata": {},
          "output_type": "execute_result"
        }
      ],
      "source": [
        "customer_response.content"
      ]
    },
    {
      "cell_type": "code",
      "execution_count": null,
      "metadata": {
        "id": "pWp_OnuRg3ym"
      },
      "outputs": [],
      "source": [
        "service_reply = \"\"\"Hey there customer, \\\n",
        "the warranty does not cover \\\n",
        "cleaning expenses for your kitchen \\\n",
        "because it's your fault that \\\n",
        "you misused your blender \\\n",
        "by forgetting to put the lid on before \\\n",
        "starting the blender. \\\n",
        "Tough luck! See ya!\n",
        "\"\"\""
      ]
    },
    {
      "cell_type": "code",
      "execution_count": null,
      "metadata": {
        "id": "igf_2boKg6U4"
      },
      "outputs": [],
      "source": [
        "service_style_child = \"\"\"\\\n",
        "a polite tone \\\n",
        "that speaks in 5 year old\\\n",
        "\"\"\""
      ]
    },
    {
      "cell_type": "code",
      "execution_count": null,
      "metadata": {
        "colab": {
          "base_uri": "https://localhost:8080/"
        },
        "id": "0JpB_bhyhAqv",
        "outputId": "81258d46-47fc-40c4-db3b-bd59e7f4bb3f"
      },
      "outputs": [
        {
          "name": "stdout",
          "output_type": "stream",
          "text": [
            "Translate the text that is delimited by triple backticks into a style that is a polite tone that speaks in 5 year old. text: ```Hey there customer, the warranty does not cover cleaning expenses for your kitchen because it's your fault that you misused your blender by forgetting to put the lid on before starting the blender. Tough luck! See ya!\n",
            "```\n",
            "\n"
          ]
        }
      ],
      "source": [
        "service_messages = prompt_template.format_messages(\n",
        "    style=service_style_child,\n",
        "    text=service_reply)\n",
        "\n",
        "print(service_messages[0].content)"
      ]
    },
    {
      "cell_type": "code",
      "execution_count": null,
      "metadata": {
        "colab": {
          "base_uri": "https://localhost:8080/"
        },
        "id": "Owto_wDmhD45",
        "outputId": "8f245347-56a2-4f8f-9f0c-218462f8defb"
      },
      "outputs": [
        {
          "name": "stdout",
          "output_type": "stream",
          "text": [
            "```\n",
            "Oh hi there friend! So sorry to tell you, but our special promise (warranty) doesn't help with cleaning up messes in your kitchen. You see, sometimes we make boo-boos, and that's okay! But in this case, it seems like you might have forgotten to put the lid on your blender before turning it on. Oops! Don't worry, it can happen to anyone! We just can't help with the cleaning costs because it was an accident. But we hope you can try to be more careful next time. Bye for now!\n",
            "```\n",
            "\n",
            "(Note: I've tried to maintain a polite tone and use simple language that a 5-year-old can understand. I've also used a gentle tone to suggest that it's okay to make mistakes and that everyone can learn from them.)\n"
          ]
        }
      ],
      "source": [
        "service_response = model.invoke(service_messages)\n",
        "print(service_response.content)"
      ]
    },
    {
      "cell_type": "markdown",
      "metadata": {
        "id": "H5nd4n3cmYye"
      },
      "source": [
        "# LLM Chain"
      ]
    },
    {
      "cell_type": "code",
      "execution_count": null,
      "metadata": {
        "id": "yA4ASVG7mk_z"
      },
      "outputs": [],
      "source": [
        "from langchain.prompts import ChatPromptTemplate\n",
        "from langchain.chains import LLMChain"
      ]
    },
    {
      "cell_type": "code",
      "execution_count": null,
      "metadata": {
        "id": "d-ZYyw_gmnPJ"
      },
      "outputs": [],
      "source": [
        "prompt = ChatPromptTemplate.from_template(\n",
        "    \"What is the best name to describe \\\n",
        "    a company that makes {product}?\"\n",
        ")"
      ]
    },
    {
      "cell_type": "code",
      "execution_count": null,
      "metadata": {
        "colab": {
          "base_uri": "https://localhost:8080/"
        },
        "id": "U8phRdf1mp3F",
        "outputId": "bf0d876c-860c-49e5-f1c1-327c23e6f976"
      },
      "outputs": [
        {
          "name": "stderr",
          "output_type": "stream",
          "text": [
            "/usr/local/lib/python3.10/dist-packages/langchain_core/_api/deprecation.py:139: LangChainDeprecationWarning: The class `LLMChain` was deprecated in LangChain 0.1.17 and will be removed in 1.0. Use RunnableSequence, e.g., `prompt | llm` instead.\n",
            "  warn_deprecated(\n"
          ]
        }
      ],
      "source": [
        "chain = LLMChain(llm=model, prompt=prompt)"
      ]
    },
    {
      "cell_type": "code",
      "execution_count": null,
      "metadata": {
        "colab": {
          "base_uri": "https://localhost:8080/",
          "height": 201
        },
        "id": "xyuFg_UkmvOB",
        "outputId": "21c74e87-fbd1-427b-fdeb-c96ce51c2e65"
      },
      "outputs": [
        {
          "name": "stderr",
          "output_type": "stream",
          "text": [
            "/usr/local/lib/python3.10/dist-packages/langchain_core/_api/deprecation.py:139: LangChainDeprecationWarning: The method `Chain.run` was deprecated in langchain 0.1.0 and will be removed in 0.3.0. Use invoke instead.\n",
            "  warn_deprecated(\n"
          ]
        },
        {
          "data": {
            "application/vnd.google.colaboratory.intrinsic+json": {
              "type": "string"
            },
            "text/plain": [
              "\"What a great question!\\n\\nHere are some name suggestions for a company that makes Queen Size Sheet Sets:\\n\\n1. **Regal Rest**: This name plays on the idea of royalty (Queen Size) and the comfort of rest.\\n2. **Sheet Sanctuary**: This name evokes a sense of a peaceful retreat, which is what a good night's sleep is all about.\\n3. **Queenly Linens**: This name incorporates the idea of luxury and high-quality linens.\\n4. **DreamWeave**: This name suggests the idea of creating a dreamy, comfortable sleep environment.\\n5. **SlumberCraft**: This name combines the idea of sleep (slumber) with the craftsmanship of high-quality sheet sets.\\n6. **Luxury Lay**: This name emphasizes the luxurious feel of the sheets and the comfort of a cozy bed.\\n7. **Queen's Quilted**: This name incorporates the idea of a queen-sized bed and the quilting process.\\n8. **Restful Bliss**: This name conveys a sense of peaceful slumber and comfort.\\n9. **SoftSpun**: This name highlights the softness and comfort of the sheet sets.\\n10. **Bedchamber Bedding**: This name incorporates the idea of a comfortable bedchamber and the luxurious feel of the sheet sets.\\n\\nI hope one of these names sparks inspiration for your company!\""
            ]
          },
          "execution_count": 55,
          "metadata": {},
          "output_type": "execute_result"
        }
      ],
      "source": [
        "product = \"Queen Size Sheet Set\"\n",
        "chain.run(product)"
      ]
    },
    {
      "cell_type": "code",
      "execution_count": null,
      "metadata": {
        "id": "vF9gZHm1maXV"
      },
      "outputs": [],
      "source": [
        "from langchain.chains import SimpleSequentialChain"
      ]
    },
    {
      "cell_type": "code",
      "execution_count": null,
      "metadata": {
        "id": "5iqarJGFmbBo"
      },
      "outputs": [],
      "source": [
        "first_prompt = ChatPromptTemplate.from_template(\n",
        "    \"What is the best name to describe \\\n",
        "    a company that makes {product}?\"\n",
        ")\n",
        "\n",
        "# Chain 1\n",
        "chain_one = LLMChain(llm=model, prompt=first_prompt)"
      ]
    },
    {
      "cell_type": "code",
      "execution_count": null,
      "metadata": {
        "id": "MbX7xKv-m2uY"
      },
      "outputs": [],
      "source": [
        "# prompt template 2\n",
        "second_prompt = ChatPromptTemplate.from_template(\n",
        "    \"Write a 20 words description for the following \\\n",
        "    company:{company_name}\"\n",
        ")\n",
        "# chain 2\n",
        "chain_two = LLMChain(llm=model, prompt=second_prompt)"
      ]
    },
    {
      "cell_type": "code",
      "execution_count": null,
      "metadata": {
        "id": "KcynecTpm6gp"
      },
      "outputs": [],
      "source": [
        "overall_simple_chain = SimpleSequentialChain(chains=[chain_one, chain_two],\n",
        "                                             verbose=True\n",
        "                                            )"
      ]
    },
    {
      "cell_type": "code",
      "execution_count": null,
      "metadata": {
        "colab": {
          "base_uri": "https://localhost:8080/",
          "height": 473
        },
        "id": "Q1X-RsrSm89R",
        "outputId": "5f09c065-5c06-41bb-fd61-685a7058bf50"
      },
      "outputs": [
        {
          "name": "stdout",
          "output_type": "stream",
          "text": [
            "\n",
            "\n",
            "\u001b[1m> Entering new SimpleSequentialChain chain...\u001b[0m\n",
            "\u001b[36;1m\u001b[1;3mWhat a unique product! Here are some name suggestions for a company that makes queen-size sheet sets:\n",
            "\n",
            "1. **Regal Bedding Co.**: \"Regal\" implies luxury and high-quality, which is perfect for a company that produces premium sheet sets.\n",
            "2. **Queenly Linens**: This name plays off the idea of \"queen\" as a reference to the size of the sheet set, while also emphasizing the luxurious feel of the linens.\n",
            "3. **Slumber Kingdom**: This name evokes a sense of comfort and relaxation, suggesting that the company's products will help customers sleep like royalty.\n",
            "4. **Royal Rest**: Similar to the previous suggestion, this name emphasizes the idea of a restful sleep and implies that the company's products are fit for a king (or queen)!\n",
            "5. **Luxe Sheet Co.**: \"Luxe\" is a high-end term that implies quality and luxury, making it a great fit for a company that produces premium sheet sets.\n",
            "6. **Bedding Royalty**: This name is straightforward and emphasizes the idea that the company's products are fit for a queen (or king).\n",
            "7. **Dreamcatcher Bedding**: This name has a whimsical, dreamy quality to it, suggesting that the company's products will help customers catch their best dreams.\n",
            "8. **Supreme Linens**: \"Supreme\" implies high-quality and superior products, making it a great fit for a company that produces top-notch sheet sets.\n",
            "9. **Restful Nights**: This name emphasizes the idea of a restful sleep and suggests that the company's products will help customers wake up feeling refreshed and rejuvenated.\n",
            "10. **Her Majesty's Linens**: This name adds a touch of whimsy and humor to the mix, while also emphasizing the luxurious feel of the company's products.\n",
            "\n",
            "I hope one of these suggestions sparks some inspiration for your company's name!\u001b[0m\n",
            "\u001b[33;1m\u001b[1;3mHere is a 20-word description for the company:\n",
            "\n",
            "\"Regal Bedding Co.\" - Luxury queen-size sheet sets for a restful sleep, crafted with high-quality materials for a royal experience.\u001b[0m\n",
            "\n",
            "\u001b[1m> Finished chain.\u001b[0m\n"
          ]
        },
        {
          "data": {
            "application/vnd.google.colaboratory.intrinsic+json": {
              "type": "string"
            },
            "text/plain": [
              "'Here is a 20-word description for the company:\\n\\n\"Regal Bedding Co.\" - Luxury queen-size sheet sets for a restful sleep, crafted with high-quality materials for a royal experience.'"
            ]
          },
          "execution_count": 60,
          "metadata": {},
          "output_type": "execute_result"
        }
      ],
      "source": [
        "overall_simple_chain.run(product)"
      ]
    },
    {
      "cell_type": "markdown",
      "metadata": {
        "id": "0wvL_drJCm_A"
      },
      "source": [
        "# Example\n",
        "\n",
        "Concept + Theme -> One line problem statement with function template with docstring. Then test cases"
      ]
    },
    {
      "cell_type": "code",
      "execution_count": null,
      "metadata": {
        "id": "9hckbkbcC58x"
      },
      "outputs": [],
      "source": [
        "from langchain.chains import SimpleSequentialChain\n",
        "from langchain.prompts import ChatPromptTemplate\n",
        "from langchain.chains import LLMChain"
      ]
    },
    {
      "cell_type": "code",
      "execution_count": null,
      "metadata": {
        "id": "yS7W64Y5DTQn"
      },
      "outputs": [],
      "source": [
        "concept = \"filtering\"\n",
        "theme = \"sports\""
      ]
    },
    {
      "cell_type": "code",
      "execution_count": null,
      "metadata": {
        "id": "Oq0VuH65DBna"
      },
      "outputs": [],
      "source": [
        "first_prompt = f\"\"\"\n",
        "Take the concept and theme which is given below and prepare a python question with specified format\n",
        "\n",
        "Concept: {concept}\n",
        "Theme: {theme}\n",
        "\n",
        "function template should have the arguments and return type with type hints and docstring with driver code.\n",
        "\n",
        "{{\n",
        "\"problem_statement\" : string\n",
        "\"function_name\" : string\n",
        "\"function_template\" : string\n",
        "test_cases : [\n",
        "    {{\n",
        "        \"input\" : string\n",
        "        \"output\" : string\n",
        "    }}\n",
        "]\n",
        "}}\n",
        "\"\"\""
      ]
    },
    {
      "cell_type": "code",
      "execution_count": null,
      "metadata": {
        "id": "KGV-UzCBGM0Y"
      },
      "outputs": [],
      "source": [
        "main_prompt = \"for any given query respond only in json\""
      ]
    },
    {
      "cell_type": "code",
      "execution_count": null,
      "metadata": {
        "id": "hbbzZt8qGG53"
      },
      "outputs": [],
      "source": [
        "from langchain_core.messages import HumanMessage, SystemMessage,AIMessage"
      ]
    },
    {
      "cell_type": "code",
      "execution_count": null,
      "metadata": {
        "id": "zsu5y_IkHrDX"
      },
      "outputs": [],
      "source": [
        "messages = [\n",
        "    SystemMessage(content=\"Extract the different named entities as json\"),\n",
        "    HumanMessage(content=\"Sachin and Raju were studying in IIT Madras, which is located in Chennai\"),\n",
        "    AIMessage(content='{\"Person\":[\"Sachin\",\"Raju\"], \"Organization\":[\"IIT Madras\"],\"Place\":[\"Chennai\"]}'),\n",
        "    HumanMessage(content=\"Kani and Mani are working in Infosys\"),\n",
        "]"
      ]
    },
    {
      "cell_type": "code",
      "execution_count": null,
      "metadata": {
        "colab": {
          "base_uri": "https://localhost:8080/",
          "height": 35
        },
        "id": "GZYqX1eDE0z9",
        "outputId": "e41f6c4f-21b9-4bd4-956b-68352a891997"
      },
      "outputs": [
        {
          "data": {
            "application/vnd.google.colaboratory.intrinsic+json": {
              "type": "string"
            },
            "text/plain": [
              "'{\"Person\":[\"Kani\",\"Mani\"], \"Organization\":[\"Infosys\"]}'"
            ]
          },
          "execution_count": 38,
          "metadata": {},
          "output_type": "execute_result"
        }
      ],
      "source": [
        "model.invoke(messages).content"
      ]
    },
    {
      "cell_type": "code",
      "execution_count": null,
      "metadata": {
        "id": "PoqZinDrFjJV"
      },
      "outputs": [],
      "source": [
        "prompt_2 = f\"\"\"\n",
        "Extract the json from the following\n",
        "\n",
        "\"\"\""
      ]
    }
  ],
  "metadata": {
    "colab": {
      "provenance": []
    },
    "kernelspec": {
      "display_name": "base",
      "language": "python",
      "name": "python3"
    },
    "language_info": {
      "codemirror_mode": {
        "name": "ipython",
        "version": 3
      },
      "file_extension": ".py",
      "mimetype": "text/x-python",
      "name": "python",
      "nbconvert_exporter": "python",
      "pygments_lexer": "ipython3",
      "version": "3.11.5"
    }
  },
  "nbformat": 4,
  "nbformat_minor": 0
}
