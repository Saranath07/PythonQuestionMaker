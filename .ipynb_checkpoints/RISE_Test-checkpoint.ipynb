{
 "cells": [
  {
   "cell_type": "markdown",
   "id": "4d1acd7f-9153-4ec4-8970-1516a2211e27",
   "metadata": {},
   "source": [
    "#                                Hello World"
   ]
  },
  {
   "cell_type": "code",
   "execution_count": null,
   "id": "a169969e-aa55-48c0-9fac-d4295fb7eadb",
   "metadata": {},
   "outputs": [],
   "source": []
  }
 ],
 "metadata": {
  "kernelspec": {
   "display_name": "Python 3 (ipykernel)",
   "language": "python",
   "name": "python3"
  },
  "language_info": {
   "codemirror_mode": {
    "name": "ipython",
    "version": 3
   },
   "file_extension": ".py",
   "mimetype": "text/x-python",
   "name": "python",
   "nbconvert_exporter": "python",
   "pygments_lexer": "ipython3",
   "version": "3.12.1"
  }
 },
 "nbformat": 4,
 "nbformat_minor": 5
}
