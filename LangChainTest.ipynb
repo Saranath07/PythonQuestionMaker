{
  "cells": [
    {
      "cell_type": "markdown",
      "metadata": {
        "id": "TgfPmNLm8oFy"
      },
      "source": [
        "# Installing Lang Chain"
      ]
    },
    {
      "cell_type": "code",
      "execution_count": null,
      "metadata": {
        "id": "8j-VHkAX7JJu"
      },
      "outputs": [],
      "source": [
        "!pip install langchain"
      ]
    },
    {
      "cell_type": "code",
      "execution_count": 2,
      "metadata": {},
      "outputs": [],
      "source": [
        "import json\n",
        "\n",
        "# Step 1: Read the JSON file\n",
        "with open('apiKeys.json', 'r') as file:\n",
        "    apiKeys = json.load(file)"
      ]
    },
    {
      "cell_type": "code",
      "execution_count": 3,
      "metadata": {
        "colab": {
          "base_uri": "https://localhost:8080/"
        },
        "id": "EOtKJQxE7Qx9",
        "outputId": "9287a3a4-9065-470b-97de-aaecf065e263"
      },
      "outputs": [],
      "source": [
        "import os\n",
        "\n",
        "os.environ[\"LANGCHAIN_TRACING_V2\"] = \"true\"\n",
        "os.environ[\"LANGCHAIN_API_KEY\"] = apiKeys['LANGCHAIN_API_KEY']"
      ]
    },
    {
      "cell_type": "code",
      "execution_count": 4,
      "metadata": {
        "colab": {
          "base_uri": "https://localhost:8080/"
        },
        "id": "Kgnnz3nF7u7b",
        "outputId": "5b65a1e3-fbcb-4172-aad5-9f0186195182"
      },
      "outputs": [],
      "source": [
        "!pip install -qU langchain-groq"
      ]
    },
    {
      "cell_type": "markdown",
      "metadata": {
        "id": "17vVcHJ88yvo"
      },
      "source": [
        "# Importing Llama3 8B model"
      ]
    },
    {
      "cell_type": "code",
      "execution_count": 5,
      "metadata": {
        "colab": {
          "base_uri": "https://localhost:8080/"
        },
        "id": "O6FEBB5K7yI9",
        "outputId": "e8bc61f7-6ad8-49ce-c9ef-9277571f6d6f"
      },
      "outputs": [],
      "source": [
        "import os\n",
        "\n",
        "os.environ[\"GROQ_API_KEY\"] = apiKeys['GROQ_API_KEY']\n",
        "\n",
        "from langchain_groq import ChatGroq\n",
        "\n",
        "model = ChatGroq(model=\"llama3-8b-8192\")"
      ]
    },
    {
      "cell_type": "markdown",
      "metadata": {
        "id": "Rs0WZ1TA8sLt"
      },
      "source": [
        "# Checking of the model is working with some common prompts"
      ]
    },
    {
      "cell_type": "code",
      "execution_count": 6,
      "metadata": {
        "colab": {
          "base_uri": "https://localhost:8080/"
        },
        "id": "mkcyxd2n8fWF",
        "outputId": "18edc3b2-8330-4cc6-fded-37be7651a00e"
      },
      "outputs": [
        {
          "data": {
            "text/plain": [
              "AIMessage(content='வணக்கம்! (Vanakkam!)', response_metadata={'token_usage': {'completion_tokens': 18, 'prompt_tokens': 24, 'total_tokens': 42, 'completion_time': 0.013493223, 'prompt_time': 0.005379929, 'queue_time': None, 'total_time': 0.018873152}, 'model_name': 'llama3-8b-8192', 'system_fingerprint': 'fp_6a6771ae9c', 'finish_reason': 'stop', 'logprobs': None}, id='run-82fde90b-47e0-4a64-9a3a-96dfdb5682f5-0', usage_metadata={'input_tokens': 24, 'output_tokens': 18, 'total_tokens': 42})"
            ]
          },
          "execution_count": 6,
          "metadata": {},
          "output_type": "execute_result"
        }
      ],
      "source": [
        "from langchain_core.messages import HumanMessage, SystemMessage\n",
        "\n",
        "messages = [\n",
        "    SystemMessage(content=\"Translate the following from English into Tamil\"),\n",
        "    HumanMessage(content=\"hi!\"),\n",
        "]\n",
        "\n",
        "model.invoke(messages)"
      ]
    },
    {
      "cell_type": "markdown",
      "metadata": {
        "id": "pjBOD_hp835X"
      },
      "source": [
        "# Checking for python oriented content"
      ]
    },
    {
      "cell_type": "code",
      "execution_count": 7,
      "metadata": {
        "colab": {
          "base_uri": "https://localhost:8080/"
        },
        "id": "Ii7q6MFn86dz",
        "outputId": "2d534d4f-efe1-4b54-c112-5528e0646b48"
      },
      "outputs": [
        {
          "data": {
            "text/plain": [
              "AIMessage(content='Getting good with programming in Python requires dedication, persistence, and a willingness to learn. Here are some tips to help you improve your Python skills:\\n\\n1. **Start with the basics**: Make sure you have a solid understanding of the fundamental concepts of programming, such as data types, variables, control structures, functions, and object-oriented programming.\\n2. **Practice, practice, practice**: The best way to learn Python is by writing code. Start with simple programs and gradually move on to more complex projects.\\n3. **Use online resources**: There are many online resources available to learn Python, including:\\n\\t* Codecademy\\'s Python Course: A interactive and comprehensive introduction to Python.\\n\\t* Python.org: The official Python website, which provides tutorials, documentation, and resources for beginners and advanced users.\\n\\t* W3Schools\\' Python Tutorial: A beginner-friendly tutorial that covers the basics of Python programming.\\n\\t* Real Python: A website that provides tutorials, articles, and resources for learning Python.\\n4. **Work on projects**: Apply your Python skills to real-world projects. This will help you learn by doing and give you a sense of accomplishment.\\n5. **Join online communities**: Join online communities such as Reddit\\'s r/learnpython, r/Python, and Stack Overflow to connect with other Python programmers, get help with your code, and learn from others.\\n6. **Read others\\' code**: Analyze and learn from open-source Python projects on GitHub or Bitbucket.\\n7. **Use a Python IDE**: A Python Integrated Development Environment (IDE) such as PyCharm, Visual Studio Code, or Spyder can help you write, debug, and optimize your code more efficiently.\\n8. **Participate in coding challenges**: Participate in coding challenges such as HackerRank, LeetCode, or Project Euler to improve your problem-solving skills and learn new concepts.\\n9. **Read books**: There are many excellent books on Python programming, including:\\n\\t* \"Python Crash Course\" by Eric Matthes\\n\\t* \"Automate the Boring Stuff with Python\" by Al Sweigart\\n\\t* \"Python for Data Analysis\" by Wes McKinney\\n10. **Take online courses**: Take online courses on platforms like Udemy, Coursera, or edX to learn specific topics or skills, such as data science, machine learning, or web development.\\n11. **Learn from others**: Learn from experienced Python programmers by reading their blogs, attending conferences, or taking online courses taught by industry experts.\\n12. **Be patient**: Learning a programming language takes time and practice. Don\\'t get discouraged if you don\\'t understand something at first. Keep practicing, and you\\'ll eventually get the hang of it.\\n\\nRemember, the key to getting good with programming in Python is to be consistent, persistent, and patient. With dedication and practice, you can become proficient in Python and start building your own projects.', response_metadata={'token_usage': {'completion_tokens': 592, 'prompt_tokens': 33, 'total_tokens': 625, 'completion_time': 0.473349711, 'prompt_time': 0.007017928, 'queue_time': None, 'total_time': 0.480367639}, 'model_name': 'llama3-8b-8192', 'system_fingerprint': 'fp_af05557ca2', 'finish_reason': 'stop', 'logprobs': None}, id='run-cc43bc80-a95b-46bd-a00d-b95c685d3a2c-0', usage_metadata={'input_tokens': 33, 'output_tokens': 592, 'total_tokens': 625})"
            ]
          },
          "execution_count": 7,
          "metadata": {},
          "output_type": "execute_result"
        }
      ],
      "source": [
        "from langchain_core.messages import HumanMessage, SystemMessage\n",
        "\n",
        "messages = [\n",
        "    SystemMessage(content=\"Give a resanoble answer to the questions\"),\n",
        "    HumanMessage(content=\"How to get good with programming in python?\"),\n",
        "]\n",
        "\n",
        "model.invoke(messages)"
      ]
    },
    {
      "cell_type": "code",
      "execution_count": 12,
      "metadata": {
        "id": "dtDUStrv-d8R"
      },
      "outputs": [],
      "source": [
        "\n",
        "\n",
        "messages_1 = [\n",
        "    SystemMessage(content=\"Give a problem statement based on the interest of user along with test cases\"),\n",
        "    HumanMessage(content=\"I like attack on titan and that is one of my favorite animie\"),\n",
        "    HumanMessage(content=\"I am weak in string operations of python\")\n",
        "]\n",
        "\n",
        "response_1 = model.invoke(messages_1)"
      ]
    },
    {
      "cell_type": "code",
      "execution_count": 16,
      "metadata": {},
      "outputs": [],
      "source": [
        "with open(\"question_1.md\", \"w\") as file:\n",
        "    file.write(response_1.content)"
      ]
    },
    {
      "cell_type": "markdown",
      "metadata": {},
      "source": [
        "# Interactive LangChain"
      ]
    },
    {
      "cell_type": "code",
      "execution_count": 19,
      "metadata": {},
      "outputs": [
        {
          "name": "stdout",
          "output_type": "stream",
          "text": [
            "Hello! I am your python assistant\n",
            "Share your interests and the concepts you are weak, I will help you out!!\n",
            "press Q to quit the conversation\n",
            "Hello Saranath! Congratulations to the Indian cricket team on their World Cup win! I'm glad to hear that you're a cricket enthusiast! How about we talk about something related to cricket? Do you have a favorite player or team? \n",
            "\n",
            "(Note: I'll only ask questions when you ask something, and then provide a Python problem statement based on your interest)\n",
            "Congratulations on India's World Cup win, Saranath! That must have been an exciting moment for you! As a cricket enthusiast, I'm sure you must have been following the tournament closely. Do you have a favorite player or team in the Indian cricket team?\n",
            "Congratulations on India's World Cup win!\n",
            "\n",
            "Now, let's talk about Python's map and filter functions. These functions are used to process iterables and return a new iterable with the results.\n",
            "\n",
            "The `map()` function applies a given function to each item of an iterable (such as a list or tuple) and returns a list of the results.\n",
            "\n",
            "The `filter()` function constructs an iterator from elements of an iterable for which a function returns true.\n",
            "\n",
            "Here's an example of using `map()` and `filter()`:\n",
            "\n",
            "```\n",
            "def square(x):\n",
            "    return x * x\n",
            "\n",
            "numbers = [1, 2, 3, 4, 5]\n",
            "squared_numbers = list(map(square, numbers))\n",
            "print(squared_numbers)  # Output: [1, 4, 9, 16, 25]\n",
            "\n",
            "def is_even(x):\n",
            "    return x % 2 == 0\n",
            "\n",
            "even_numbers = list(filter(is_even, numbers))\n",
            "print(even_numbers)  # Output: [2, 4]\n",
            "```\n",
            "\n",
            "Now, here are some practice questions for you:\n",
            "\n",
            "1. Write a Python function that takes a list of integers as input and returns a new list with the squares of all even numbers in the original list.\n",
            "\n",
            "2. Write a Python function that takes a list of strings as input and returns a new list with all strings that contain the word \"hello\".\n",
            "\n",
            "3. Write a Python function that takes a list of integers as input and returns a new list with the sum of all numbers in the original list.\n",
            "\n",
            "4. Write a Python function that takes a list of integers as input and returns a new list with the squares of all numbers that are greater than 5 in the original list.\n",
            "\n",
            "5. Write a Python function that takes a list of strings as input and returns a new list with all strings that start with the letter \"A\".\n",
            "\n",
            "You can use the `map()` and `filter()` functions to solve these problems. Good luck!\n",
            "List methods are an important part of Python programming. Let me give you a problem statement and some test cases to help you practice.\n",
            "\n",
            "**Problem Statement:**\n",
            "\n",
            "You are given a list of cricket players with their scores. Write a Python function to find the players who have scored above a certain average score.\n",
            "\n",
            "**Test Cases:**\n",
            "\n",
            "```\n",
            "players = [('Rohit', 50), ('Dhoni', 60), ('Kohli', 70), ('Pant', 40), ('Rahane', 30)]\n",
            "average_score = 50\n",
            "expected_output = [('Rohit', 50), ('Dhoni', 60), ('Kohli', 70)]\n",
            "```\n",
            "\n",
            "**Hint:** You can use the `filter` function and list comprehensions to solve this problem.\n",
            "\n",
            "Now, it's your turn to write the Python function. I'll wait for your response!\n",
            "Here's a Python problem statement based on your interests in cricket and list methods:\n",
            "\n",
            "**Problem:** You have a list of cricket players, each represented as a tuple containing their name, batting average, and bowling average. Write a function that filters this list to include only players with a batting average greater than 40 and a bowling average less than 30.\n",
            "\n",
            "**Example:**\n",
            "\n",
            "```\n",
            "players = [\n",
            "    (\"Sachin\", 45.67, 22.11),\n",
            "    (\"Kohli\", 50.23, 28.45),\n",
            "    (\"Dhoni\", 38.91, 29.23),\n",
            "    (\"Kumble\", 37.11, 21.45),\n",
            "    (\"Tendulkar\", 48.67, 25.23)\n",
            "]\n",
            "\n",
            "filtered_players = filter_players(players)\n",
            "print(filtered_players)\n",
            "```\n",
            "\n",
            "**Expected Output:**\n",
            "\n",
            "```\n",
            "[(\"Sachin\", 45.67, 22.11), (\"Kohli\", 50.23, 28.45), (\"Tendulkar\", 48.67, 25.23)]\n",
            "```\n",
            "\n",
            "**Test Cases:**\n",
            "\n",
            "1. `filter_players([(\"Sachin\", 45.67, 22.11)])` -> `[(\"Sachin\", 45.67, 22.11)]`\n",
            "2. `filter_players([(\"Kohli\", 40.23, 28.45)])` -> `[]`\n",
            "3. `filter_players([(\"Kumble\", 37.11, 21.45), (\"Tendulkar\", 48.67, 25.23)])` -> `[(\"Kumble\", 37.11, 21.45), (\"Tendulkar\", 48.67, 25.23)]`\n",
            "\n",
            "Your task is to write the `filter_players` function using list methods such as `filter()`, `lambda`, and list comprehensions.\n"
          ]
        }
      ],
      "source": [
        "messages_2 = [\n",
        "    SystemMessage(content=\"Chat with the user as a normal python chatbot and only give questions when user asks.\"),\n",
        "    SystemMessage(content=\"Give a python problem statement based on the interests of the user along with test cases.\")\n",
        "]\n",
        "\n",
        "print(\"Hello! I am your python assistant\")\n",
        "print(\"Share your interests and the concepts you are weak, I will help you out!!\")\n",
        "print(\"press Q to quit the conversation\")\n",
        "\n",
        "ch = input()\n",
        "\n",
        "while ch != 'Q' and ch != 'q':\n",
        "    messages_2.append(HumanMessage(content=ch))\n",
        "    response_2 = model.invoke(messages_2)\n",
        "    print(response_2.content)\n",
        "    ch = input()"
      ]
    },
    {
      "cell_type": "code",
      "execution_count": 20,
      "metadata": {},
      "outputs": [
        {
          "data": {
            "text/plain": [
              "[SystemMessage(content='Chat with the user as a normal python chatbot and only give questions when user asks.'),\n",
              " SystemMessage(content='Give a python problem statement based on the interests of the user along with test cases.'),\n",
              " HumanMessage(content='I am Saranath, I am very interested in cricket and recently india win the world cup'),\n",
              " HumanMessage(content='Hi, I am saranath, I am cricket enthusiast and india recently won a world cup'),\n",
              " HumanMessage(content='I wanted to know how can we use map, filter in python. Can you give me some practice questions'),\n",
              " HumanMessage(content='I am also very weak in understanding list methods'),\n",
              " HumanMessage(content='I am also very weak in understanding list methods')]"
            ]
          },
          "execution_count": 20,
          "metadata": {},
          "output_type": "execute_result"
        }
      ],
      "source": [
        "messages_2"
      ]
    }
  ],
  "metadata": {
    "colab": {
      "provenance": []
    },
    "kernelspec": {
      "display_name": "Python 3",
      "name": "python3"
    },
    "language_info": {
      "codemirror_mode": {
        "name": "ipython",
        "version": 3
      },
      "file_extension": ".py",
      "mimetype": "text/x-python",
      "name": "python",
      "nbconvert_exporter": "python",
      "pygments_lexer": "ipython3",
      "version": "3.12.1"
    }
  },
  "nbformat": 4,
  "nbformat_minor": 0
}
