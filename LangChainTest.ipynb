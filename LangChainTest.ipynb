{
  "nbformat": 4,
  "nbformat_minor": 0,
  "metadata": {
    "colab": {
      "provenance": []
    },
    "kernelspec": {
      "name": "python3",
      "display_name": "Python 3"
    },
    "language_info": {
      "name": "python"
    }
  },
  "cells": [
    {
      "cell_type": "markdown",
      "source": [
        "# Installing Lang Chain"
      ],
      "metadata": {
        "id": "TgfPmNLm8oFy"
      }
    },
    {
      "cell_type": "code",
      "execution_count": null,
      "metadata": {
        "id": "8j-VHkAX7JJu"
      },
      "outputs": [],
      "source": [
        "!pip install langchain"
      ]
    },
    {
      "cell_type": "code",
      "source": [
        "import getpass\n",
        "import os\n",
        "\n",
        "os.environ[\"LANGCHAIN_TRACING_V2\"] = \"true\"\n",
        "os.environ[\"LANGCHAIN_API_KEY\"] = getpass.getpass()"
      ],
      "metadata": {
        "colab": {
          "base_uri": "https://localhost:8080/"
        },
        "id": "EOtKJQxE7Qx9",
        "outputId": "9287a3a4-9065-470b-97de-aaecf065e263"
      },
      "execution_count": 2,
      "outputs": [
        {
          "name": "stdout",
          "output_type": "stream",
          "text": [
            "··········\n"
          ]
        }
      ]
    },
    {
      "cell_type": "code",
      "source": [
        "!pip install -qU langchain-groq"
      ],
      "metadata": {
        "colab": {
          "base_uri": "https://localhost:8080/"
        },
        "id": "Kgnnz3nF7u7b",
        "outputId": "5b65a1e3-fbcb-4172-aad5-9f0186195182"
      },
      "execution_count": 3,
      "outputs": [
        {
          "output_type": "stream",
          "name": "stdout",
          "text": [
            "\u001b[2K     \u001b[90m━━━━━━━━━━━━━━━━━━━━━━━━━━━━━━━━━━━━━━━━\u001b[0m \u001b[32m103.5/103.5 kB\u001b[0m \u001b[31m3.4 MB/s\u001b[0m eta \u001b[36m0:00:00\u001b[0m\n",
            "\u001b[2K     \u001b[90m━━━━━━━━━━━━━━━━━━━━━━━━━━━━━━━━━━━━━━━━\u001b[0m \u001b[32m75.6/75.6 kB\u001b[0m \u001b[31m6.4 MB/s\u001b[0m eta \u001b[36m0:00:00\u001b[0m\n",
            "\u001b[2K     \u001b[90m━━━━━━━━━━━━━━━━━━━━━━━━━━━━━━━━━━━━━━━━\u001b[0m \u001b[32m77.9/77.9 kB\u001b[0m \u001b[31m9.2 MB/s\u001b[0m eta \u001b[36m0:00:00\u001b[0m\n",
            "\u001b[2K     \u001b[90m━━━━━━━━━━━━━━━━━━━━━━━━━━━━━━━━━━━━━━━━\u001b[0m \u001b[32m58.3/58.3 kB\u001b[0m \u001b[31m7.0 MB/s\u001b[0m eta \u001b[36m0:00:00\u001b[0m\n",
            "\u001b[?25h"
          ]
        }
      ]
    },
    {
      "cell_type": "markdown",
      "source": [
        "# Importing Llama3 8B model"
      ],
      "metadata": {
        "id": "17vVcHJ88yvo"
      }
    },
    {
      "cell_type": "code",
      "source": [
        "import getpass\n",
        "import os\n",
        "\n",
        "os.environ[\"GROQ_API_KEY\"] = getpass.getpass()\n",
        "\n",
        "from langchain_groq import ChatGroq\n",
        "\n",
        "model = ChatGroq(model=\"llama3-8b-8192\")"
      ],
      "metadata": {
        "colab": {
          "base_uri": "https://localhost:8080/"
        },
        "id": "O6FEBB5K7yI9",
        "outputId": "e8bc61f7-6ad8-49ce-c9ef-9277571f6d6f"
      },
      "execution_count": 4,
      "outputs": [
        {
          "name": "stdout",
          "output_type": "stream",
          "text": [
            "··········\n"
          ]
        }
      ]
    },
    {
      "cell_type": "markdown",
      "source": [
        "# Checking of the model is working with some common prompts"
      ],
      "metadata": {
        "id": "Rs0WZ1TA8sLt"
      }
    },
    {
      "cell_type": "code",
      "source": [
        "from langchain_core.messages import HumanMessage, SystemMessage\n",
        "\n",
        "messages = [\n",
        "    SystemMessage(content=\"Translate the following from English into Tamil\"),\n",
        "    HumanMessage(content=\"hi!\"),\n",
        "]\n",
        "\n",
        "model.invoke(messages)"
      ],
      "metadata": {
        "colab": {
          "base_uri": "https://localhost:8080/"
        },
        "id": "mkcyxd2n8fWF",
        "outputId": "18edc3b2-8330-4cc6-fded-37be7651a00e"
      },
      "execution_count": 5,
      "outputs": [
        {
          "output_type": "execute_result",
          "data": {
            "text/plain": [
              "AIMessage(content='வணக்கம்! (Vaanakkam!)', response_metadata={'token_usage': {'completion_tokens': 19, 'prompt_tokens': 24, 'total_tokens': 43, 'completion_time': 0.01437779, 'prompt_time': 0.005268857, 'queue_time': None, 'total_time': 0.019646647}, 'model_name': 'llama3-8b-8192', 'system_fingerprint': 'fp_873a560973', 'finish_reason': 'stop', 'logprobs': None}, id='run-dfb2402c-6979-47c2-9a75-18a33acc86dd-0', usage_metadata={'input_tokens': 24, 'output_tokens': 19, 'total_tokens': 43})"
            ]
          },
          "metadata": {},
          "execution_count": 5
        }
      ]
    },
    {
      "cell_type": "markdown",
      "source": [
        "# Checking for python oriented content"
      ],
      "metadata": {
        "id": "pjBOD_hp835X"
      }
    },
    {
      "cell_type": "code",
      "source": [
        "from langchain_core.messages import HumanMessage, SystemMessage\n",
        "\n",
        "messages = [\n",
        "    SystemMessage(content=\"Give a resanoble answer to the questions\"),\n",
        "    HumanMessage(content=\"How to get good with programming in python?\"),\n",
        "]\n",
        "\n",
        "model.invoke(messages)"
      ],
      "metadata": {
        "colab": {
          "base_uri": "https://localhost:8080/"
        },
        "id": "Ii7q6MFn86dz",
        "outputId": "2d534d4f-efe1-4b54-c112-5528e0646b48"
      },
      "execution_count": 6,
      "outputs": [
        {
          "output_type": "execute_result",
          "data": {
            "text/plain": [
              "AIMessage(content=\"Getting good with programming in Python (or any programming language) requires practice, patience, and dedication. Here are some tips to help you improve your Python programming skills:\\n\\n1. **Start with the basics**: Make sure you understand the fundamental concepts of Python, such as data types, variables, control structures, functions, and object-oriented programming.\\n2. **Practice, practice, practice**: The best way to improve your Python skills is by writing code. Start with simple programs and gradually move on to more complex ones.\\n3. **Work on projects**: Apply your knowledge by working on real-world projects. This will help you learn by doing and gain practical experience.\\n4. **Join online communities**: Participate in online communities like Reddit's r/learnpython, r/Python, and Stack Overflow to connect with other programmers, get help with problems, and learn from their experiences.\\n5. **Take online courses**: There are many online courses and tutorials available that can help you learn Python, such as Codecademy, Coursera, and edX.\\n6. **Read books**: There are many excellent books on Python programming that can help you deepen your understanding of the language and its applications.\\n7. **Join a coding group or find a mentor**: Joining a coding group or finding a mentor can help you stay motivated, get feedback on your code, and learn from others.\\n8. **Learn by doing**: Don't be afraid to try new things and make mistakes. Learn by doing and experimenting with different code snippets and projects.\\n9. **Use a Python IDE**: Use a Python Integrated Development Environment (IDE) like PyCharm, Visual Studio Code, or Spyder to write, debug, and optimize your code.\\n10. **Stay up-to-date**: Python is a rapidly evolving language, and it's essential to stay up-to-date with the latest developments, best practices, and libraries.\\n11. **Learn from others**: Study open-source code, read other programmers' code, and learn from their experiences and techniques.\\n12. **Participate in coding challenges**: Participate in coding challenges like Project Euler, HackerRank, or Codewars to improve your problem-solving skills and learn new concepts.\\n13. **Read others' code**: Read other programmers' code to learn from their experiences, understand different coding styles, and gain inspiration for your own projects.\\n14. **Use Python libraries and frameworks**: Familiarize yourself with popular Python libraries and frameworks like NumPy, Pandas, Flask, and Django to expand your skills and knowledge.\\n15. **Write code regularly**: Make writing code a regular habit. The more you code, the better you'll become.\\n\\nRemember, becoming proficient in Python (or any programming language) takes time, effort, and dedication. Stay committed, persistent, and patient, and you'll see improvement over time.\", response_metadata={'token_usage': {'completion_tokens': 577, 'prompt_tokens': 33, 'total_tokens': 610, 'completion_time': 0.468642934, 'prompt_time': 0.009144151, 'queue_time': None, 'total_time': 0.477787085}, 'model_name': 'llama3-8b-8192', 'system_fingerprint': 'fp_af05557ca2', 'finish_reason': 'stop', 'logprobs': None}, id='run-318e029e-64f9-497a-9b3a-891247021064-0', usage_metadata={'input_tokens': 33, 'output_tokens': 577, 'total_tokens': 610})"
            ]
          },
          "metadata": {},
          "execution_count": 6
        }
      ]
    },
    {
      "cell_type": "code",
      "source": [],
      "metadata": {
        "id": "dtDUStrv-d8R"
      },
      "execution_count": null,
      "outputs": []
    }
  ]
}