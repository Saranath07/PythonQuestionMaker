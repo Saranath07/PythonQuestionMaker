{
  "cells": [
    {
      "cell_type": "markdown",
      "metadata": {
        "id": "TgfPmNLm8oFy"
      },
      "source": [
        "# Installing Lang Chain"
      ]
    },
    {
      "cell_type": "code",
      "execution_count": 1,
      "metadata": {
        "id": "8j-VHkAX7JJu"
      },
      "outputs": [
        {
          "name": "stdout",
          "output_type": "stream",
          "text": [
            "Defaulting to user installation because normal site-packages is not writeable\n",
            "Requirement already satisfied: langchain in /home/saranath/.local/lib/python3.12/site-packages (0.2.6)\n",
            "Requirement already satisfied: PyYAML>=5.3 in /usr/lib64/python3.12/site-packages (from langchain) (6.0.1)\n",
            "Requirement already satisfied: SQLAlchemy<3,>=1.4 in /home/saranath/.local/lib/python3.12/site-packages (from langchain) (2.0.23)\n",
            "Requirement already satisfied: aiohttp<4.0.0,>=3.8.3 in /home/saranath/.local/lib/python3.12/site-packages (from langchain) (3.9.5)\n",
            "Requirement already satisfied: langchain-core<0.3.0,>=0.2.10 in /home/saranath/.local/lib/python3.12/site-packages (from langchain) (0.2.10)\n",
            "Requirement already satisfied: langchain-text-splitters<0.3.0,>=0.2.0 in /home/saranath/.local/lib/python3.12/site-packages (from langchain) (0.2.2)\n",
            "Requirement already satisfied: langsmith<0.2.0,>=0.1.17 in /home/saranath/.local/lib/python3.12/site-packages (from langchain) (0.1.82)\n",
            "Requirement already satisfied: numpy<2.0.0,>=1.26.0 in /home/saranath/.local/lib/python3.12/site-packages (from langchain) (1.26.2)\n",
            "Requirement already satisfied: pydantic<3,>=1 in /home/saranath/.local/lib/python3.12/site-packages (from langchain) (2.7.4)\n",
            "Requirement already satisfied: requests<3,>=2 in /home/saranath/.local/lib/python3.12/site-packages (from langchain) (2.32.3)\n",
            "Requirement already satisfied: tenacity!=8.4.0,<9.0.0,>=8.1.0 in /home/saranath/.local/lib/python3.12/site-packages (from langchain) (8.2.3)\n",
            "Requirement already satisfied: aiosignal>=1.1.2 in /home/saranath/.local/lib/python3.12/site-packages (from aiohttp<4.0.0,>=3.8.3->langchain) (1.3.1)\n",
            "Requirement already satisfied: attrs>=17.3.0 in /home/saranath/.local/lib/python3.12/site-packages (from aiohttp<4.0.0,>=3.8.3->langchain) (23.1.0)\n",
            "Requirement already satisfied: frozenlist>=1.1.1 in /home/saranath/.local/lib/python3.12/site-packages (from aiohttp<4.0.0,>=3.8.3->langchain) (1.4.1)\n",
            "Requirement already satisfied: multidict<7.0,>=4.5 in /home/saranath/.local/lib/python3.12/site-packages (from aiohttp<4.0.0,>=3.8.3->langchain) (6.0.5)\n",
            "Requirement already satisfied: yarl<2.0,>=1.0 in /home/saranath/.local/lib/python3.12/site-packages (from aiohttp<4.0.0,>=3.8.3->langchain) (1.9.4)\n",
            "Requirement already satisfied: jsonpatch<2.0,>=1.33 in /home/saranath/.local/lib/python3.12/site-packages (from langchain-core<0.3.0,>=0.2.10->langchain) (1.33)\n",
            "Requirement already satisfied: packaging<25,>=23.2 in /home/saranath/.local/lib/python3.12/site-packages (from langchain-core<0.3.0,>=0.2.10->langchain) (24.1)\n",
            "Requirement already satisfied: orjson<4.0.0,>=3.9.14 in /home/saranath/.local/lib/python3.12/site-packages (from langsmith<0.2.0,>=0.1.17->langchain) (3.10.5)\n",
            "Requirement already satisfied: annotated-types>=0.4.0 in /home/saranath/.local/lib/python3.12/site-packages (from pydantic<3,>=1->langchain) (0.7.0)\n",
            "Requirement already satisfied: pydantic-core==2.18.4 in /home/saranath/.local/lib/python3.12/site-packages (from pydantic<3,>=1->langchain) (2.18.4)\n",
            "Requirement already satisfied: typing-extensions>=4.6.1 in /home/saranath/.local/lib/python3.12/site-packages (from pydantic<3,>=1->langchain) (4.9.0)\n",
            "Requirement already satisfied: charset-normalizer<4,>=2 in /usr/lib/python3.12/site-packages (from requests<3,>=2->langchain) (3.2.0)\n",
            "Requirement already satisfied: idna<4,>=2.5 in /usr/lib/python3.12/site-packages (from requests<3,>=2->langchain) (3.4)\n",
            "Requirement already satisfied: urllib3<3,>=1.21.1 in /usr/lib/python3.12/site-packages (from requests<3,>=2->langchain) (1.26.18)\n",
            "Requirement already satisfied: certifi>=2017.4.17 in /home/saranath/.local/lib/python3.12/site-packages (from requests<3,>=2->langchain) (2023.11.17)\n",
            "Requirement already satisfied: greenlet!=0.4.17 in /home/saranath/.local/lib/python3.12/site-packages (from SQLAlchemy<3,>=1.4->langchain) (3.0.3)\n",
            "Requirement already satisfied: jsonpointer>=1.9 in /home/saranath/.local/lib/python3.12/site-packages (from jsonpatch<2.0,>=1.33->langchain-core<0.3.0,>=0.2.10->langchain) (3.0.0)\n"
          ]
        }
      ],
      "source": [
        "!pip install langchain"
      ]
    },
    {
      "cell_type": "code",
      "execution_count": 2,
      "metadata": {},
      "outputs": [],
      "source": [
        "import json\n",
        "\n",
        "# Step 1: Read the JSON file\n",
        "with open('apiKeys.json', 'r') as file:\n",
        "    apiKeys = json.load(file)"
      ]
    },
    {
      "cell_type": "code",
      "execution_count": 3,
      "metadata": {
        "colab": {
          "base_uri": "https://localhost:8080/"
        },
        "id": "EOtKJQxE7Qx9",
        "outputId": "9287a3a4-9065-470b-97de-aaecf065e263"
      },
      "outputs": [],
      "source": [
        "import os\n",
        "\n",
        "os.environ[\"LANGCHAIN_TRACING_V2\"] = \"true\"\n",
        "os.environ[\"LANGCHAIN_API_KEY\"] = apiKeys['LANGCHAIN_API_KEY']"
      ]
    },
    {
      "cell_type": "code",
      "execution_count": 4,
      "metadata": {
        "colab": {
          "base_uri": "https://localhost:8080/"
        },
        "id": "Kgnnz3nF7u7b",
        "outputId": "5b65a1e3-fbcb-4172-aad5-9f0186195182"
      },
      "outputs": [],
      "source": [
        "!pip install -qU langchain-groq"
      ]
    },
    {
      "cell_type": "markdown",
      "metadata": {
        "id": "17vVcHJ88yvo"
      },
      "source": [
        "# Importing Llama3 8B model"
      ]
    },
    {
      "cell_type": "code",
      "execution_count": 5,
      "metadata": {
        "colab": {
          "base_uri": "https://localhost:8080/"
        },
        "id": "O6FEBB5K7yI9",
        "outputId": "e8bc61f7-6ad8-49ce-c9ef-9277571f6d6f"
      },
      "outputs": [],
      "source": [
        "import os\n",
        "\n",
        "os.environ[\"GROQ_API_KEY\"] = apiKeys['GROQ_API_KEY']\n",
        "\n",
        "from langchain_groq import ChatGroq\n",
        "\n",
        "model = ChatGroq(model=\"llama3-8b-8192\")"
      ]
    },
    {
      "cell_type": "markdown",
      "metadata": {
        "id": "Rs0WZ1TA8sLt"
      },
      "source": [
        "# Checking of the model is working with some common prompts"
      ]
    },
    {
      "cell_type": "code",
      "execution_count": 6,
      "metadata": {
        "colab": {
          "base_uri": "https://localhost:8080/"
        },
        "id": "mkcyxd2n8fWF",
        "outputId": "18edc3b2-8330-4cc6-fded-37be7651a00e"
      },
      "outputs": [
        {
          "data": {
            "text/plain": [
              "AIMessage(content='வணக்கம்! (Vanakkam!)', response_metadata={'token_usage': {'completion_tokens': 18, 'prompt_tokens': 24, 'total_tokens': 42, 'completion_time': 0.013493223, 'prompt_time': 0.005379929, 'queue_time': None, 'total_time': 0.018873152}, 'model_name': 'llama3-8b-8192', 'system_fingerprint': 'fp_6a6771ae9c', 'finish_reason': 'stop', 'logprobs': None}, id='run-82fde90b-47e0-4a64-9a3a-96dfdb5682f5-0', usage_metadata={'input_tokens': 24, 'output_tokens': 18, 'total_tokens': 42})"
            ]
          },
          "execution_count": 6,
          "metadata": {},
          "output_type": "execute_result"
        }
      ],
      "source": [
        "from langchain_core.messages import HumanMessage, SystemMessage\n",
        "\n",
        "messages = [\n",
        "    SystemMessage(content=\"Translate the following from English into Tamil\"),\n",
        "    HumanMessage(content=\"hi!\"),\n",
        "]\n",
        "\n",
        "model.invoke(messages)"
      ]
    },
    {
      "cell_type": "markdown",
      "metadata": {
        "id": "pjBOD_hp835X"
      },
      "source": [
        "# Checking for python oriented content"
      ]
    },
    {
      "cell_type": "code",
      "execution_count": 7,
      "metadata": {
        "colab": {
          "base_uri": "https://localhost:8080/"
        },
        "id": "Ii7q6MFn86dz",
        "outputId": "2d534d4f-efe1-4b54-c112-5528e0646b48"
      },
      "outputs": [
        {
          "data": {
            "text/plain": [
              "AIMessage(content='Getting good with programming in Python requires dedication, persistence, and a willingness to learn. Here are some tips to help you improve your Python skills:\\n\\n1. **Start with the basics**: Make sure you have a solid understanding of the fundamental concepts of programming, such as data types, variables, control structures, functions, and object-oriented programming.\\n2. **Practice, practice, practice**: The best way to learn Python is by writing code. Start with simple programs and gradually move on to more complex projects.\\n3. **Use online resources**: There are many online resources available to learn Python, including:\\n\\t* Codecademy\\'s Python Course: A interactive and comprehensive introduction to Python.\\n\\t* Python.org: The official Python website, which provides tutorials, documentation, and resources for beginners and advanced users.\\n\\t* W3Schools\\' Python Tutorial: A beginner-friendly tutorial that covers the basics of Python programming.\\n\\t* Real Python: A website that provides tutorials, articles, and resources for learning Python.\\n4. **Work on projects**: Apply your Python skills to real-world projects. This will help you learn by doing and give you a sense of accomplishment.\\n5. **Join online communities**: Join online communities such as Reddit\\'s r/learnpython, r/Python, and Stack Overflow to connect with other Python programmers, get help with your code, and learn from others.\\n6. **Read others\\' code**: Analyze and learn from open-source Python projects on GitHub or Bitbucket.\\n7. **Use a Python IDE**: A Python Integrated Development Environment (IDE) such as PyCharm, Visual Studio Code, or Spyder can help you write, debug, and optimize your code more efficiently.\\n8. **Participate in coding challenges**: Participate in coding challenges such as HackerRank, LeetCode, or Project Euler to improve your problem-solving skills and learn new concepts.\\n9. **Read books**: There are many excellent books on Python programming, including:\\n\\t* \"Python Crash Course\" by Eric Matthes\\n\\t* \"Automate the Boring Stuff with Python\" by Al Sweigart\\n\\t* \"Python for Data Analysis\" by Wes McKinney\\n10. **Take online courses**: Take online courses on platforms like Udemy, Coursera, or edX to learn specific topics or skills, such as data science, machine learning, or web development.\\n11. **Learn from others**: Learn from experienced Python programmers by reading their blogs, attending conferences, or taking online courses taught by industry experts.\\n12. **Be patient**: Learning a programming language takes time and practice. Don\\'t get discouraged if you don\\'t understand something at first. Keep practicing, and you\\'ll eventually get the hang of it.\\n\\nRemember, the key to getting good with programming in Python is to be consistent, persistent, and patient. With dedication and practice, you can become proficient in Python and start building your own projects.', response_metadata={'token_usage': {'completion_tokens': 592, 'prompt_tokens': 33, 'total_tokens': 625, 'completion_time': 0.473349711, 'prompt_time': 0.007017928, 'queue_time': None, 'total_time': 0.480367639}, 'model_name': 'llama3-8b-8192', 'system_fingerprint': 'fp_af05557ca2', 'finish_reason': 'stop', 'logprobs': None}, id='run-cc43bc80-a95b-46bd-a00d-b95c685d3a2c-0', usage_metadata={'input_tokens': 33, 'output_tokens': 592, 'total_tokens': 625})"
            ]
          },
          "execution_count": 7,
          "metadata": {},
          "output_type": "execute_result"
        }
      ],
      "source": [
        "from langchain_core.messages import HumanMessage, SystemMessage\n",
        "\n",
        "messages = [\n",
        "    SystemMessage(content=\"Give a resanoble answer to the questions\"),\n",
        "    HumanMessage(content=\"How to get good with programming in python?\"),\n",
        "]\n",
        "\n",
        "model.invoke(messages)"
      ]
    },
    {
      "cell_type": "code",
      "execution_count": null,
      "metadata": {
        "id": "dtDUStrv-d8R"
      },
      "outputs": [],
      "source": []
    }
  ],
  "metadata": {
    "colab": {
      "provenance": []
    },
    "kernelspec": {
      "display_name": "Python 3",
      "name": "python3"
    },
    "language_info": {
      "codemirror_mode": {
        "name": "ipython",
        "version": 3
      },
      "file_extension": ".py",
      "mimetype": "text/x-python",
      "name": "python",
      "nbconvert_exporter": "python",
      "pygments_lexer": "ipython3",
      "version": "3.12.1"
    }
  },
  "nbformat": 4,
  "nbformat_minor": 0
}
