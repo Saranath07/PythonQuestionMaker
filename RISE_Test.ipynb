{
 "cells": [
  {
   "cell_type": "markdown",
   "id": "4d1acd7f-9153-4ec4-8970-1516a2211e27",
   "metadata": {},
   "source": [
    "# Hello World\n",
    "\n",
    "- Hi\n",
    "- Hloo\n",
    "- Welcome"
   ]
  },
  {
   "cell_type": "code",
   "execution_count": 1,
   "id": "de1e3c18-7e08-40eb-9bf9-03bb26ae9133",
   "metadata": {},
   "outputs": [
    {
     "name": "stdout",
     "output_type": "stream",
     "text": [
      "Hello World\n"
     ]
    }
   ],
   "source": [
    "print(\"Hello World\")"
   ]
  }
 ],
 "metadata": {
  "kernelspec": {
   "display_name": "Python 3 (ipykernel)",
   "language": "python",
   "name": "python3"
  },
  "language_info": {
   "codemirror_mode": {
    "name": "ipython",
    "version": 3
   },
   "file_extension": ".py",
   "mimetype": "text/x-python",
   "name": "python",
   "nbconvert_exporter": "python",
   "pygments_lexer": "ipython3",
   "version": "3.12.1"
  }
 },
 "nbformat": 4,
 "nbformat_minor": 5
}
