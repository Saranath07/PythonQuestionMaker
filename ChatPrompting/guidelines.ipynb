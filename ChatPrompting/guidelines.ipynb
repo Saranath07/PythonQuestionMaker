{
 "cells": [
  {
   "cell_type": "code",
   "execution_count": 3,
   "metadata": {},
   "outputs": [],
   "source": [
    "import json\n",
    "\n",
    "with open('apiKeys.json', 'r') as file:\n",
    "\n",
    "    apiKeys = json.load(file)"
   ]
  },
  {
   "cell_type": "code",
   "execution_count": 4,
   "metadata": {},
   "outputs": [],
   "source": [
    "import os\n",
    "\n",
    "os.environ[\"LANGCHAIN_TRACING_V2\"] = \"true\"\n",
    "os.environ[\"LANGCHAIN_API_KEY\"] = apiKeys['LANGCHAIN_API_KEY']"
   ]
  },
  {
   "cell_type": "code",
   "execution_count": 5,
   "metadata": {},
   "outputs": [],
   "source": [
    "import os\n",
    "\n",
    "os.environ[\"GROQ_API_KEY\"] = apiKeys['GROQ_API_KEY']\n",
    "\n",
    "from langchain_groq import ChatGroq\n",
    "\n",
    "model = ChatGroq(model=\"llama3-8b-8192\")"
   ]
  },
  {
   "cell_type": "code",
   "execution_count": 6,
   "metadata": {},
   "outputs": [],
   "source": [
    "def get_completion(prompt, model=\"llama3-8b-8192\"):\n",
    "    messages = [{\"role\": \"user\", \"content\": prompt}]\n",
    "    response = ChatGroq(model=model).invoke(messages)\n",
    "    return response\n"
   ]
  },
  {
   "cell_type": "code",
   "execution_count": 8,
   "metadata": {},
   "outputs": [
    {
     "data": {
      "text/plain": [
       "\"Hi! Not much, just hanging out and ready to chat! How about you? What's on your mind today?\""
      ]
     },
     "execution_count": 8,
     "metadata": {},
     "output_type": "execute_result"
    }
   ],
   "source": [
    "prompt = f\"Hi, What's up!\"\n",
    "\n",
    "response = get_completion(prompt)\n",
    "response.content\n"
   ]
  },
  {
   "cell_type": "code",
   "execution_count": 10,
   "metadata": {},
   "outputs": [
    {
     "name": "stdout",
     "output_type": "stream",
     "text": [
      "Here is a summary of the text:\n",
      "\n",
      "Python is a high-level programming language known for its readability and simplicity. It was created in 1991 and uses indentation to make code readable. Python supports multiple programming styles and has a large library and many third-party packages, making it suitable for a wide range of applications. Its community-driven development and robust frameworks contribute to its popularity, making it a good choice for both beginners and experienced developers.\n"
     ]
    }
   ],
   "source": [
    "text = f\"\"\"Python is a versatile, high-level programming language renowned \\\n",
    "for its readability and simplicity. Created by Guido van Rossum and \\\n",
    "first released in 1991, Python emphasizes code readability with its \\\n",
    "use of significant indentation. \\\n",
    "It supports multiple programming paradigms, including procedural, \\\n",
    "object-oriented, and functional programming. Python's extensive \\\n",
    "standard library and vast ecosystem of third-party packages make it \\\n",
    "suitable for a wide range of applications, from web development and \\\n",
    "data analysis to artificial intelligence and scientific computing. \\\n",
    "Its community-driven development and robust frameworks contribute \\\n",
    "to its popularity, making Python an ideal choice for both beginners \\\n",
    "and experienced developers.\"\"\"\n",
    "\n",
    "prompt = f\"Summarize the text delimited by triple backticks: ```{text}```\"\n",
    "\n",
    "response = get_completion(prompt)\n",
    "print(response.content)"
   ]
  },
  {
   "cell_type": "markdown",
   "metadata": {},
   "source": [
    "# Generate in a particular format"
   ]
  },
  {
   "cell_type": "code",
   "execution_count": 13,
   "metadata": {},
   "outputs": [
    {
     "name": "stdout",
     "output_type": "stream",
     "text": [
      "What a monumental task! While it's challenging to cover all the concepts in a single YAML file, I'll create a comprehensive outline that covers the basics of programming for a beginner. Please note that this is not an exhaustive list, and there will be additional topics to explore as you continue learning.\n",
      "\n",
      "Here's a YAML file that covers the fundamental concepts of programming for a beginner:\n",
      "```yaml\n",
      "---\n",
      "# Introduction to Programming\n",
      "introduction:\n",
      "  - Definition of programming\n",
      "  - Types of programming languages (imperative, declarative, functional)\n",
      "  - Brief history of programming\n",
      "\n",
      "# Basics of Programming\n",
      "basics:\n",
      "  - Variables:\n",
      "    - Data types (strings, numbers, booleans, arrays, objects)\n",
      "    - Variable declaration and assignment\n",
      "    - Basic arithmetic operations\n",
      "  - Control Structures:\n",
      "    - Conditional statements (if-else, switch-case)\n",
      "    - Loops (for, while, do-while)\n",
      "    - Jump statements (break, continue, return)\n",
      "  - Functions:\n",
      "    - Function declaration and calling\n",
      "    - Function arguments and return values\n",
      "    - Function scope and closure\n",
      "\n",
      "# Data Structures and Algorithms\n",
      "data_structures_and_algorithms:\n",
      "  - Arrays:\n",
      "    - Declaration and initialization\n",
      "    - Indexing and slicing\n",
      "    - Basic operations (push, pop, shift, unshift)\n",
      "  - Lists and Tuples:\n",
      "    - Declaration and initialization\n",
      "    - Indexing and slicing\n",
      "    - Basic operations (append, extend, insert, remove)\n",
      "  - Dictionaries and Hash Tables:\n",
      "    - Declaration and initialization\n",
      "    - Key-value pairs\n",
      "    - Basic operations (get, set, delete)\n",
      "  - Stacks and Queues:\n",
      "    - Declaration and initialization\n",
      "    - Basic operations (push, pop, peek, enqueue, dequeue)\n",
      "  - Basic Algorithms:\n",
      "    - Linear search\n",
      "    - Binary search\n",
      "    - Sorting algorithms (bubble sort, selection sort)\n",
      "    - Searching algorithms (linear search, binary search)\n",
      "\n",
      "# Object-Oriented Programming (OOP)\n",
      "oop:\n",
      "  - Classes and Objects:\n",
      "    - Declaration and instantiation\n",
      "    - Attributes (data members) and methods\n",
      "    - Constructors and destructors\n",
      "  - Inheritance:\n",
      "    - Single inheritance\n",
      "    - Multiple inheritance\n",
      "    - Method overriding and overloading\n",
      "  - Polymorphism:\n",
      "    - Method overriding\n",
      "    - Method overloading\n",
      "  - Encapsulation:\n",
      "    - Access modifiers (public, private, protected)\n",
      "    - Getters and setters\n",
      "\n",
      "# Web Development\n",
      "web_development:\n",
      "  - Introduction to HTML/CSS:\n",
      "    - Basic syntax and structure\n",
      "    - Tags and attributes\n",
      "    - CSS selectors and properties\n",
      "  - Introduction to JavaScript:\n",
      "    - Basic syntax and structure\n",
      "    - Variables and data types\n",
      "    - Control structures and functions\n",
      "  - Introduction to Node.js:\n",
      "    - Basic syntax and structure\n",
      "    - Modules and require\n",
      "    - Events and callbacks\n",
      "\n",
      "# Error Handling and Debugging\n",
      "error_handling_and_debugging:\n",
      "  - Error types ( syntax, runtime, logical)\n",
      "  - Try-catch blocks\n",
      "  - Debugging techniques (print statements, console.log, debuggers)\n",
      "\n",
      "# Advanced Topics\n",
      "advanced_topics:\n",
      "  - Regular Expressions:\n",
      "    - Basic syntax and structure\n",
      "    - Patterns and matching\n",
      "  - File Input/Output:\n",
      "    - Reading and writing files\n",
      "    - File modes (read, write, append)\n",
      "  - Network Programming:\n",
      "    - Socket programming\n",
      "    - HTTP requests and responses\n",
      "```\n",
      "This YAML file covers the following topics:\n",
      "\n",
      "1. Introduction to programming, including definitions, types of programming languages, and brief history.\n",
      "2. Basics of programming, including variables, control structures, and functions.\n",
      "3. Data structures and algorithms, including arrays, lists, tuples, dictionaries, stacks, and queues.\n",
      "4. Object-Oriented Programming (OOP), including classes, objects, inheritance, polymorphism, and encapsulation.\n",
      "5. Web development, including HTML/CSS, JavaScript, and Node.js.\n",
      "6. Error handling and debugging, including error types, try-catch blocks, and debugging techniques.\n",
      "7. Advanced topics, including regular expressions, file input/output, and network programming.\n",
      "\n",
      "Please note that this is not an exhaustive list, and you'll likely need to explore additional topics as you continue learning. Additionally, this YAML file provides a general outline and is not meant to be a comprehensive guide.\n"
     ]
    }
   ],
   "source": [
    "prompt = f\"Generate a yaml file whic covers all the concepts that can learnt for people learning programming for the first time.\"\n",
    "\n",
    "response = get_completion(prompt)\n",
    "print(response.content)\n"
   ]
  },
  {
   "cell_type": "markdown",
   "metadata": {},
   "source": [
    "# Generate with steps"
   ]
  },
  {
   "cell_type": "code",
   "execution_count": 15,
   "metadata": {},
   "outputs": [
    {
     "name": "stdout",
     "output_type": "stream",
     "text": [
      "Completion for Text 1:\n",
      "content='Here are the instructions re-written in the requested format:\\n\\n\"\"\"\\nStep 1 - Get some water boiling.\\nStep 2 - Grab a cup and put a tea bag in it.\\nStep 3 - Once the water is hot enough, pour it over the tea bag.\\nStep 4 - Let it sit for a bit so the tea can steep.\\nStep 5 - After a few minutes, take out the tea bag.\\nStep 6 - If you like, add some sugar or milk to taste.\\nStep 7 - And that\\'s it! You\\'ve got yourself a delicious cup of tea to enjoy.\\n\"\"\"\\n\\nNote: I kept the original text\\'s tone and wording as much as possible, while re-formatting the instructions in a step-by-step style.' response_metadata={'token_usage': {'completion_tokens': 153, 'prompt_tokens': 198, 'total_tokens': 351, 'completion_time': 0.124942778, 'prompt_time': 0.031007019, 'queue_time': None, 'total_time': 0.155949797}, 'model_name': 'llama3-8b-8192', 'system_fingerprint': 'fp_6a6771ae9c', 'finish_reason': 'stop', 'logprobs': None} id='run-4f9a547f-6432-4766-a6aa-bcca26315c8f-0' usage_metadata={'input_tokens': 198, 'output_tokens': 153, 'total_tokens': 351}\n"
     ]
    }
   ],
   "source": [
    "text = f\"\"\"\n",
    "Making a cup of tea is easy! First, you need to get some \\ \n",
    "water boiling. While that's happening, \\ \n",
    "grab a cup and put a tea bag in it. Once the water is \\ \n",
    "hot enough, just pour it over the tea bag. \\ \n",
    "Let it sit for a bit so the tea can steep. After a \\ \n",
    "few minutes, take out the tea bag. If you \\ \n",
    "like, you can add some sugar or milk to taste. \\ \n",
    "And that's it! You've got yourself a delicious \\ \n",
    "cup of tea to enjoy.\n",
    "\"\"\"\n",
    "\n",
    "prompt = f\"\"\"\n",
    "You will be provided with text delimited by triple quotes. \n",
    "If it contains a sequence of instructions, \\ \n",
    "re-write those instructions in the following format:\n",
    "\n",
    "Step 1 - ...\n",
    "Step 2 - …\n",
    "…\n",
    "Step N - …\n",
    "\n",
    "If the text does not contain a sequence of instructions, \\ \n",
    "then simply write \\\"No steps provided.\\\"\n",
    "\n",
    "\\\"\\\"\\\"{text}\\\"\\\"\\\"\n",
    "\"\"\"\n",
    "response = get_completion(prompt)\n",
    "print(\"Completion for Text 1:\")\n",
    "print(response)"
   ]
  },
  {
   "cell_type": "code",
   "execution_count": 18,
   "metadata": {},
   "outputs": [],
   "source": [
    "text = f\"\"\"\n",
    "Badminton is a fast-paced racquet sport played with a shuttlecock across a net. \\\n",
    "Originating from British India, it requires agility, precision, and strategic play. \\\n",
    "Players can compete in singles or doubles matches, aiming to score points by landing \\\n",
    "the shuttlecock in the opponent's court. The sport demands quick reflexes, \\\n",
    "powerful shots, and accurate placement. Popular worldwide, badminton \\\n",
    "is featured in the Olympics and has a strong following in countries like China, \\\n",
    "Indonesia, and Denmark. Regular practice improves cardiovascular health and coordination.\n",
    "\"\"\"\n",
    "\n",
    "prompt = f\"\"\"\n",
    "Perform the following actions: \n",
    "1 - Summarize the following text delimited by triple \\\n",
    "backticks with 1 sentence\n",
    "2 - List the names of the countries mentioned in the paragraph\n",
    "3 - Output the game name and countries list in a json format. The format is like\n",
    " \"game\": \"game_name\",\n",
    " \"countries\":[\"country1, country2, country3\"]\n",
    "\n",
    " Text:\n",
    "```{text}```\n",
    "\n",
    "\"\"\""
   ]
  },
  {
   "cell_type": "code",
   "execution_count": 19,
   "metadata": {},
   "outputs": [
    {
     "data": {
      "text/plain": [
       "'Here are the requested actions:\\n\\n**1. Summarize the text in 1 sentence:**\\nBadminton is a fast-paced racquet sport that requires agility, precision, and strategy, played with a shuttlecock across a net.\\n\\n**2. List the names of the countries mentioned in the paragraph:**\\n\\n* China\\n* Indonesia\\n* Denmark\\n\\n**3. Output the game name and countries list in a JSON format:**\\n```\\n{\\n  \"game\": \"Badminton\",\\n  \"countries\": [\"China\", \"Indonesia\", \"Denmark\"]\\n}\\n```'"
      ]
     },
     "execution_count": 19,
     "metadata": {},
     "output_type": "execute_result"
    }
   ],
   "source": [
    "response = get_completion(prompt)\n",
    "response.content"
   ]
  }
 ],
 "metadata": {
  "kernelspec": {
   "display_name": "base",
   "language": "python",
   "name": "python3"
  },
  "language_info": {
   "codemirror_mode": {
    "name": "ipython",
    "version": 3
   },
   "file_extension": ".py",
   "mimetype": "text/x-python",
   "name": "python",
   "nbconvert_exporter": "python",
   "pygments_lexer": "ipython3",
   "version": "3.11.5"
  }
 },
 "nbformat": 4,
 "nbformat_minor": 2
}
